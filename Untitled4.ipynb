{
 "cells": [
  {
   "cell_type": "code",
   "execution_count": 1,
   "id": "7da358fd",
   "metadata": {},
   "outputs": [],
   "source": [
    "import pandas as pd\n",
    "from sklearn.model_selection import train_test_split\n",
    "from sklearn.linear_model import LinearRegression\n",
    "from sklearn.metrics import mean_squared_error\n",
    "import numpy as np"
   ]
  },
  {
   "cell_type": "code",
   "execution_count": 2,
   "id": "00d30428",
   "metadata": {},
   "outputs": [],
   "source": [
    "# load dataframe\n",
    "path = \"https://raw.githubusercontent.com/felixriese/hyperspectral-soilmoisture-dataset/master/soilmoisture_dataset.csv\"\n",
    "df = pd.read_csv(path, index_col=0)"
   ]
  },
  {
   "cell_type": "code",
   "execution_count": 3,
   "id": "4a8fe63c",
   "metadata": {},
   "outputs": [],
   "source": [
    "# get hyperspectral bands:\n",
    "hypbands = []\n",
    "for col in df.columns:\n",
    "    try:\n",
    "        int(col)\n",
    "    except Exception:\n",
    "        continue\n",
    "    hypbands.append(col)"
   ]
  },
  {
   "cell_type": "code",
   "execution_count": 4,
   "id": "a238ad69",
   "metadata": {},
   "outputs": [],
   "source": [
    "hypbands.append('soil_temperature')"
   ]
  },
  {
   "cell_type": "code",
   "execution_count": 5,
   "id": "10754170",
   "metadata": {},
   "outputs": [],
   "source": [
    "# split dataset\n",
    "X_train, X_test, y_train, y_test = train_test_split(\n",
    "    df[hypbands], df[\"soil_moisture\"],\n",
    "    test_size=0.5, random_state=42, shuffle=True)"
   ]
  },
  {
   "cell_type": "code",
   "execution_count": 6,
   "id": "9d0e955f",
   "metadata": {},
   "outputs": [
    {
     "data": {
      "text/html": [
       "<div>\n",
       "<style scoped>\n",
       "    .dataframe tbody tr th:only-of-type {\n",
       "        vertical-align: middle;\n",
       "    }\n",
       "\n",
       "    .dataframe tbody tr th {\n",
       "        vertical-align: top;\n",
       "    }\n",
       "\n",
       "    .dataframe thead th {\n",
       "        text-align: right;\n",
       "    }\n",
       "</style>\n",
       "<table border=\"1\" class=\"dataframe\">\n",
       "  <thead>\n",
       "    <tr style=\"text-align: right;\">\n",
       "      <th></th>\n",
       "      <th>454</th>\n",
       "      <th>458</th>\n",
       "      <th>462</th>\n",
       "      <th>466</th>\n",
       "      <th>470</th>\n",
       "      <th>474</th>\n",
       "      <th>478</th>\n",
       "      <th>482</th>\n",
       "      <th>486</th>\n",
       "      <th>490</th>\n",
       "      <th>...</th>\n",
       "      <th>918</th>\n",
       "      <th>922</th>\n",
       "      <th>926</th>\n",
       "      <th>930</th>\n",
       "      <th>934</th>\n",
       "      <th>938</th>\n",
       "      <th>942</th>\n",
       "      <th>946</th>\n",
       "      <th>950</th>\n",
       "      <th>soil_temperature</th>\n",
       "    </tr>\n",
       "    <tr>\n",
       "      <th>index</th>\n",
       "      <th></th>\n",
       "      <th></th>\n",
       "      <th></th>\n",
       "      <th></th>\n",
       "      <th></th>\n",
       "      <th></th>\n",
       "      <th></th>\n",
       "      <th></th>\n",
       "      <th></th>\n",
       "      <th></th>\n",
       "      <th></th>\n",
       "      <th></th>\n",
       "      <th></th>\n",
       "      <th></th>\n",
       "      <th></th>\n",
       "      <th></th>\n",
       "      <th></th>\n",
       "      <th></th>\n",
       "      <th></th>\n",
       "      <th></th>\n",
       "      <th></th>\n",
       "    </tr>\n",
       "  </thead>\n",
       "  <tbody>\n",
       "    <tr>\n",
       "      <th>258</th>\n",
       "      <td>0.171864</td>\n",
       "      <td>0.120882</td>\n",
       "      <td>0.107869</td>\n",
       "      <td>0.103092</td>\n",
       "      <td>0.103555</td>\n",
       "      <td>0.102752</td>\n",
       "      <td>0.102419</td>\n",
       "      <td>0.105817</td>\n",
       "      <td>0.104879</td>\n",
       "      <td>0.108050</td>\n",
       "      <td>...</td>\n",
       "      <td>0.283707</td>\n",
       "      <td>0.284849</td>\n",
       "      <td>0.285174</td>\n",
       "      <td>0.285347</td>\n",
       "      <td>0.285786</td>\n",
       "      <td>0.287448</td>\n",
       "      <td>0.285676</td>\n",
       "      <td>0.285845</td>\n",
       "      <td>0.285430</td>\n",
       "      <td>44.0</td>\n",
       "    </tr>\n",
       "    <tr>\n",
       "      <th>566</th>\n",
       "      <td>0.080511</td>\n",
       "      <td>0.060803</td>\n",
       "      <td>0.055457</td>\n",
       "      <td>0.054473</td>\n",
       "      <td>0.053861</td>\n",
       "      <td>0.053128</td>\n",
       "      <td>0.053305</td>\n",
       "      <td>0.053862</td>\n",
       "      <td>0.054393</td>\n",
       "      <td>0.054889</td>\n",
       "      <td>...</td>\n",
       "      <td>0.164494</td>\n",
       "      <td>0.164859</td>\n",
       "      <td>0.164727</td>\n",
       "      <td>0.163654</td>\n",
       "      <td>0.162555</td>\n",
       "      <td>0.160726</td>\n",
       "      <td>0.159858</td>\n",
       "      <td>0.158155</td>\n",
       "      <td>0.156737</td>\n",
       "      <td>34.0</td>\n",
       "    </tr>\n",
       "    <tr>\n",
       "      <th>652</th>\n",
       "      <td>0.089888</td>\n",
       "      <td>0.060954</td>\n",
       "      <td>0.052854</td>\n",
       "      <td>0.049936</td>\n",
       "      <td>0.048519</td>\n",
       "      <td>0.047464</td>\n",
       "      <td>0.047994</td>\n",
       "      <td>0.047948</td>\n",
       "      <td>0.048286</td>\n",
       "      <td>0.049222</td>\n",
       "      <td>...</td>\n",
       "      <td>0.158408</td>\n",
       "      <td>0.159030</td>\n",
       "      <td>0.158889</td>\n",
       "      <td>0.159137</td>\n",
       "      <td>0.158849</td>\n",
       "      <td>0.158808</td>\n",
       "      <td>0.158723</td>\n",
       "      <td>0.158710</td>\n",
       "      <td>0.158751</td>\n",
       "      <td>39.9</td>\n",
       "    </tr>\n",
       "    <tr>\n",
       "      <th>192</th>\n",
       "      <td>0.097442</td>\n",
       "      <td>0.071014</td>\n",
       "      <td>0.065238</td>\n",
       "      <td>0.064316</td>\n",
       "      <td>0.064072</td>\n",
       "      <td>0.063491</td>\n",
       "      <td>0.064083</td>\n",
       "      <td>0.064342</td>\n",
       "      <td>0.065241</td>\n",
       "      <td>0.065579</td>\n",
       "      <td>...</td>\n",
       "      <td>0.152655</td>\n",
       "      <td>0.151962</td>\n",
       "      <td>0.150996</td>\n",
       "      <td>0.148878</td>\n",
       "      <td>0.146822</td>\n",
       "      <td>0.144504</td>\n",
       "      <td>0.142946</td>\n",
       "      <td>0.141192</td>\n",
       "      <td>0.139314</td>\n",
       "      <td>33.4</td>\n",
       "    </tr>\n",
       "    <tr>\n",
       "      <th>420</th>\n",
       "      <td>0.102138</td>\n",
       "      <td>0.069669</td>\n",
       "      <td>0.063291</td>\n",
       "      <td>0.060598</td>\n",
       "      <td>0.059482</td>\n",
       "      <td>0.059518</td>\n",
       "      <td>0.059947</td>\n",
       "      <td>0.060128</td>\n",
       "      <td>0.061237</td>\n",
       "      <td>0.062396</td>\n",
       "      <td>...</td>\n",
       "      <td>0.178984</td>\n",
       "      <td>0.179179</td>\n",
       "      <td>0.178861</td>\n",
       "      <td>0.179109</td>\n",
       "      <td>0.179091</td>\n",
       "      <td>0.179825</td>\n",
       "      <td>0.180967</td>\n",
       "      <td>0.181364</td>\n",
       "      <td>0.181446</td>\n",
       "      <td>31.3</td>\n",
       "    </tr>\n",
       "    <tr>\n",
       "      <th>...</th>\n",
       "      <td>...</td>\n",
       "      <td>...</td>\n",
       "      <td>...</td>\n",
       "      <td>...</td>\n",
       "      <td>...</td>\n",
       "      <td>...</td>\n",
       "      <td>...</td>\n",
       "      <td>...</td>\n",
       "      <td>...</td>\n",
       "      <td>...</td>\n",
       "      <td>...</td>\n",
       "      <td>...</td>\n",
       "      <td>...</td>\n",
       "      <td>...</td>\n",
       "      <td>...</td>\n",
       "      <td>...</td>\n",
       "      <td>...</td>\n",
       "      <td>...</td>\n",
       "      <td>...</td>\n",
       "      <td>...</td>\n",
       "      <td>...</td>\n",
       "    </tr>\n",
       "    <tr>\n",
       "      <th>73</th>\n",
       "      <td>0.119141</td>\n",
       "      <td>0.081142</td>\n",
       "      <td>0.069623</td>\n",
       "      <td>0.065592</td>\n",
       "      <td>0.064662</td>\n",
       "      <td>0.063384</td>\n",
       "      <td>0.063237</td>\n",
       "      <td>0.063406</td>\n",
       "      <td>0.064005</td>\n",
       "      <td>0.064498</td>\n",
       "      <td>...</td>\n",
       "      <td>0.172024</td>\n",
       "      <td>0.171857</td>\n",
       "      <td>0.171822</td>\n",
       "      <td>0.171931</td>\n",
       "      <td>0.172531</td>\n",
       "      <td>0.173213</td>\n",
       "      <td>0.173555</td>\n",
       "      <td>0.173986</td>\n",
       "      <td>0.173834</td>\n",
       "      <td>31.4</td>\n",
       "    </tr>\n",
       "    <tr>\n",
       "      <th>108</th>\n",
       "      <td>0.130775</td>\n",
       "      <td>0.086956</td>\n",
       "      <td>0.076603</td>\n",
       "      <td>0.074679</td>\n",
       "      <td>0.072736</td>\n",
       "      <td>0.073275</td>\n",
       "      <td>0.073516</td>\n",
       "      <td>0.074836</td>\n",
       "      <td>0.075314</td>\n",
       "      <td>0.077198</td>\n",
       "      <td>...</td>\n",
       "      <td>0.216641</td>\n",
       "      <td>0.216764</td>\n",
       "      <td>0.216965</td>\n",
       "      <td>0.216703</td>\n",
       "      <td>0.216259</td>\n",
       "      <td>0.216167</td>\n",
       "      <td>0.215902</td>\n",
       "      <td>0.215047</td>\n",
       "      <td>0.214508</td>\n",
       "      <td>45.8</td>\n",
       "    </tr>\n",
       "    <tr>\n",
       "      <th>273</th>\n",
       "      <td>0.095978</td>\n",
       "      <td>0.068838</td>\n",
       "      <td>0.062414</td>\n",
       "      <td>0.059479</td>\n",
       "      <td>0.058463</td>\n",
       "      <td>0.058681</td>\n",
       "      <td>0.057528</td>\n",
       "      <td>0.059002</td>\n",
       "      <td>0.058951</td>\n",
       "      <td>0.061475</td>\n",
       "      <td>...</td>\n",
       "      <td>0.171848</td>\n",
       "      <td>0.171633</td>\n",
       "      <td>0.171165</td>\n",
       "      <td>0.170861</td>\n",
       "      <td>0.170494</td>\n",
       "      <td>0.169249</td>\n",
       "      <td>0.168390</td>\n",
       "      <td>0.168118</td>\n",
       "      <td>0.166532</td>\n",
       "      <td>33.0</td>\n",
       "    </tr>\n",
       "    <tr>\n",
       "      <th>438</th>\n",
       "      <td>0.106441</td>\n",
       "      <td>0.073280</td>\n",
       "      <td>0.065368</td>\n",
       "      <td>0.062656</td>\n",
       "      <td>0.062142</td>\n",
       "      <td>0.062167</td>\n",
       "      <td>0.062390</td>\n",
       "      <td>0.063036</td>\n",
       "      <td>0.064211</td>\n",
       "      <td>0.065227</td>\n",
       "      <td>...</td>\n",
       "      <td>0.185108</td>\n",
       "      <td>0.185656</td>\n",
       "      <td>0.185551</td>\n",
       "      <td>0.185112</td>\n",
       "      <td>0.184713</td>\n",
       "      <td>0.183801</td>\n",
       "      <td>0.183443</td>\n",
       "      <td>0.183024</td>\n",
       "      <td>0.182639</td>\n",
       "      <td>31.5</td>\n",
       "    </tr>\n",
       "    <tr>\n",
       "      <th>104</th>\n",
       "      <td>0.127470</td>\n",
       "      <td>0.086052</td>\n",
       "      <td>0.076451</td>\n",
       "      <td>0.073186</td>\n",
       "      <td>0.073289</td>\n",
       "      <td>0.073037</td>\n",
       "      <td>0.074247</td>\n",
       "      <td>0.074572</td>\n",
       "      <td>0.075731</td>\n",
       "      <td>0.077051</td>\n",
       "      <td>...</td>\n",
       "      <td>0.213682</td>\n",
       "      <td>0.213527</td>\n",
       "      <td>0.213687</td>\n",
       "      <td>0.213989</td>\n",
       "      <td>0.214445</td>\n",
       "      <td>0.214890</td>\n",
       "      <td>0.214640</td>\n",
       "      <td>0.214531</td>\n",
       "      <td>0.214848</td>\n",
       "      <td>46.2</td>\n",
       "    </tr>\n",
       "  </tbody>\n",
       "</table>\n",
       "<p>339 rows × 126 columns</p>\n",
       "</div>"
      ],
      "text/plain": [
       "            454       458       462       466       470       474       478  \\\n",
       "index                                                                         \n",
       "258    0.171864  0.120882  0.107869  0.103092  0.103555  0.102752  0.102419   \n",
       "566    0.080511  0.060803  0.055457  0.054473  0.053861  0.053128  0.053305   \n",
       "652    0.089888  0.060954  0.052854  0.049936  0.048519  0.047464  0.047994   \n",
       "192    0.097442  0.071014  0.065238  0.064316  0.064072  0.063491  0.064083   \n",
       "420    0.102138  0.069669  0.063291  0.060598  0.059482  0.059518  0.059947   \n",
       "...         ...       ...       ...       ...       ...       ...       ...   \n",
       "73     0.119141  0.081142  0.069623  0.065592  0.064662  0.063384  0.063237   \n",
       "108    0.130775  0.086956  0.076603  0.074679  0.072736  0.073275  0.073516   \n",
       "273    0.095978  0.068838  0.062414  0.059479  0.058463  0.058681  0.057528   \n",
       "438    0.106441  0.073280  0.065368  0.062656  0.062142  0.062167  0.062390   \n",
       "104    0.127470  0.086052  0.076451  0.073186  0.073289  0.073037  0.074247   \n",
       "\n",
       "            482       486       490  ...       918       922       926  \\\n",
       "index                                ...                                 \n",
       "258    0.105817  0.104879  0.108050  ...  0.283707  0.284849  0.285174   \n",
       "566    0.053862  0.054393  0.054889  ...  0.164494  0.164859  0.164727   \n",
       "652    0.047948  0.048286  0.049222  ...  0.158408  0.159030  0.158889   \n",
       "192    0.064342  0.065241  0.065579  ...  0.152655  0.151962  0.150996   \n",
       "420    0.060128  0.061237  0.062396  ...  0.178984  0.179179  0.178861   \n",
       "...         ...       ...       ...  ...       ...       ...       ...   \n",
       "73     0.063406  0.064005  0.064498  ...  0.172024  0.171857  0.171822   \n",
       "108    0.074836  0.075314  0.077198  ...  0.216641  0.216764  0.216965   \n",
       "273    0.059002  0.058951  0.061475  ...  0.171848  0.171633  0.171165   \n",
       "438    0.063036  0.064211  0.065227  ...  0.185108  0.185656  0.185551   \n",
       "104    0.074572  0.075731  0.077051  ...  0.213682  0.213527  0.213687   \n",
       "\n",
       "            930       934       938       942       946       950  \\\n",
       "index                                                               \n",
       "258    0.285347  0.285786  0.287448  0.285676  0.285845  0.285430   \n",
       "566    0.163654  0.162555  0.160726  0.159858  0.158155  0.156737   \n",
       "652    0.159137  0.158849  0.158808  0.158723  0.158710  0.158751   \n",
       "192    0.148878  0.146822  0.144504  0.142946  0.141192  0.139314   \n",
       "420    0.179109  0.179091  0.179825  0.180967  0.181364  0.181446   \n",
       "...         ...       ...       ...       ...       ...       ...   \n",
       "73     0.171931  0.172531  0.173213  0.173555  0.173986  0.173834   \n",
       "108    0.216703  0.216259  0.216167  0.215902  0.215047  0.214508   \n",
       "273    0.170861  0.170494  0.169249  0.168390  0.168118  0.166532   \n",
       "438    0.185112  0.184713  0.183801  0.183443  0.183024  0.182639   \n",
       "104    0.213989  0.214445  0.214890  0.214640  0.214531  0.214848   \n",
       "\n",
       "       soil_temperature  \n",
       "index                    \n",
       "258                44.0  \n",
       "566                34.0  \n",
       "652                39.9  \n",
       "192                33.4  \n",
       "420                31.3  \n",
       "...                 ...  \n",
       "73                 31.4  \n",
       "108                45.8  \n",
       "273                33.0  \n",
       "438                31.5  \n",
       "104                46.2  \n",
       "\n",
       "[339 rows x 126 columns]"
      ]
     },
     "execution_count": 6,
     "metadata": {},
     "output_type": "execute_result"
    }
   ],
   "source": [
    "#y_test = y_test.to_frame()\n",
    "X_train"
   ]
  },
  {
   "cell_type": "code",
   "execution_count": 7,
   "id": "0128082b",
   "metadata": {},
   "outputs": [],
   "source": [
    "# performing preprocessing part\n",
    "from sklearn.preprocessing import StandardScaler\n",
    "sc = StandardScaler()\n",
    "  \n",
    "X_train = sc.fit_transform(X_train)\n",
    "X_test = sc.transform(X_test)"
   ]
  },
  {
   "cell_type": "code",
   "execution_count": 8,
   "id": "a5e14391",
   "metadata": {},
   "outputs": [
    {
     "name": "stdout",
     "output_type": "stream",
     "text": [
      "(340,) (340, 126)\n"
     ]
    }
   ],
   "source": [
    "print(y_test.shape,X_test.shape)"
   ]
  },
  {
   "cell_type": "code",
   "execution_count": 9,
   "id": "479d5486",
   "metadata": {},
   "outputs": [
    {
     "data": {
      "text/plain": [
       "array([[ 2.42162592,  2.67675787,  2.66520224, ...,  2.57971217,\n",
       "         2.56210044,  1.45471785],\n",
       "       [-0.85466799, -0.65350428, -0.57943574, ..., -0.74916195,\n",
       "        -0.77395984, -0.72716584],\n",
       "       [-0.51839355, -0.64512881, -0.74053702, ..., -0.73468255,\n",
       "        -0.7217577 ,  0.56014554],\n",
       "       ...,\n",
       "       [-0.29998596, -0.20813102, -0.14870832, ..., -0.48941579,\n",
       "        -0.52006645, -0.94535421],\n",
       "       [ 0.07526981,  0.03809888,  0.03416047, ..., -0.1008291 ,\n",
       "        -0.10251122, -1.27263676],\n",
       "       [ 0.8294611 ,  0.7460737 ,  0.7202231 , ...,  0.72055677,\n",
       "         0.73241517,  1.93473226]])"
      ]
     },
     "execution_count": 9,
     "metadata": {},
     "output_type": "execute_result"
    }
   ],
   "source": [
    "X_train"
   ]
  },
  {
   "cell_type": "code",
   "execution_count": null,
   "id": "ad5b678c",
   "metadata": {},
   "outputs": [],
   "source": []
  },
  {
   "cell_type": "code",
   "execution_count": 15,
   "id": "f6fd2dcf",
   "metadata": {},
   "outputs": [
    {
     "data": {
      "text/plain": [
       "0.8292474504565424"
      ]
     },
     "execution_count": 15,
     "metadata": {},
     "output_type": "execute_result"
    }
   ],
   "source": [
    "lg = LinearRegression()\n",
    "lg.fit(X_train, y_train)\n",
    "lg.score(X_test, y_test)"
   ]
  },
  {
   "cell_type": "code",
   "execution_count": 17,
   "id": "5383fbc7",
   "metadata": {},
   "outputs": [
    {
     "name": "stdout",
     "output_type": "stream",
     "text": [
      "RMSE: 2.3452667324697076\n"
     ]
    }
   ],
   "source": [
    "ypred=lg.predict(X_test)\n",
    "print(\"RMSE:\", mean_squared_error(y_test, ypred))"
   ]
  },
  {
   "cell_type": "code",
   "execution_count": 11,
   "id": "ae9dfb2e",
   "metadata": {
    "scrolled": true
   },
   "outputs": [
    {
     "name": "stdout",
     "output_type": "stream",
     "text": [
      "R-squared: 0.9443556795366267\n",
      "RMSE: 0.7642683753920725\n"
     ]
    }
   ],
   "source": [
    "from sklearn.svm import SVR\n",
    "from sklearn import *\n",
    "from math import sqrt\n",
    "regressor = SVR(kernel = 'rbf',C=100,gamma=1.15)\n",
    "regressor.fit(X_train, y_train)\n",
    "yfit = regressor.predict(X_test)\n",
    "#print(y_test)\n",
    "score = regressor.score(X_test, y_test)\n",
    "#score1=regressor.score(X_test,y_test)\n",
    "print(\"R-squared:\", score)\n",
    "print(\"RMSE:\", mean_squared_error(y_test, yfit))"
   ]
  },
  {
   "cell_type": "code",
   "execution_count": 12,
   "id": "7f8fa330",
   "metadata": {},
   "outputs": [
    {
     "data": {
      "text/plain": [
       "(340, 126)"
      ]
     },
     "execution_count": 12,
     "metadata": {},
     "output_type": "execute_result"
    }
   ],
   "source": [
    "X_test.shape"
   ]
  },
  {
   "cell_type": "code",
   "execution_count": 316,
   "id": "21c7b2c6",
   "metadata": {},
   "outputs": [
    {
     "name": "stdout",
     "output_type": "stream",
     "text": [
      "Fitting 5 folds for each of 25 candidates, totalling 125 fits\n",
      "[CV 1/5] END ........C=0.1, gamma=1, kernel=rbf;, score=0.296 total time=   0.0s\n",
      "[CV 2/5] END ........C=0.1, gamma=1, kernel=rbf;, score=0.238 total time=   0.0s\n",
      "[CV 3/5] END ........C=0.1, gamma=1, kernel=rbf;, score=0.239 total time=   0.0s\n",
      "[CV 4/5] END ........C=0.1, gamma=1, kernel=rbf;, score=0.252 total time=   0.0s\n",
      "[CV 5/5] END ........C=0.1, gamma=1, kernel=rbf;, score=0.259 total time=   0.0s\n",
      "[CV 1/5] END ......C=0.1, gamma=0.1, kernel=rbf;, score=0.555 total time=   0.0s\n",
      "[CV 2/5] END ......C=0.1, gamma=0.1, kernel=rbf;, score=0.515 total time=   0.0s\n",
      "[CV 3/5] END ......C=0.1, gamma=0.1, kernel=rbf;, score=0.560 total time=   0.0s\n",
      "[CV 4/5] END ......C=0.1, gamma=0.1, kernel=rbf;, score=0.529 total time=   0.0s\n",
      "[CV 5/5] END ......C=0.1, gamma=0.1, kernel=rbf;, score=0.551 total time=   0.0s\n",
      "[CV 1/5] END .....C=0.1, gamma=0.01, kernel=rbf;, score=0.646 total time=   0.0s\n",
      "[CV 2/5] END .....C=0.1, gamma=0.01, kernel=rbf;, score=0.621 total time=   0.0s\n",
      "[CV 3/5] END .....C=0.1, gamma=0.01, kernel=rbf;, score=0.703 total time=   0.0s\n",
      "[CV 4/5] END .....C=0.1, gamma=0.01, kernel=rbf;, score=0.661 total time=   0.0s\n",
      "[CV 5/5] END .....C=0.1, gamma=0.01, kernel=rbf;, score=0.625 total time=   0.0s\n",
      "[CV 1/5] END ....C=0.1, gamma=0.001, kernel=rbf;, score=0.513 total time=   0.0s\n",
      "[CV 2/5] END ....C=0.1, gamma=0.001, kernel=rbf;, score=0.509 total time=   0.0s\n",
      "[CV 3/5] END ....C=0.1, gamma=0.001, kernel=rbf;, score=0.579 total time=   0.0s\n",
      "[CV 4/5] END ....C=0.1, gamma=0.001, kernel=rbf;, score=0.558 total time=   0.0s\n",
      "[CV 5/5] END ....C=0.1, gamma=0.001, kernel=rbf;, score=0.460 total time=   0.0s\n",
      "[CV 1/5] END ...C=0.1, gamma=0.0001, kernel=rbf;, score=0.139 total time=   0.0s\n",
      "[CV 2/5] END ...C=0.1, gamma=0.0001, kernel=rbf;, score=0.135 total time=   0.0s\n",
      "[CV 3/5] END ...C=0.1, gamma=0.0001, kernel=rbf;, score=0.141 total time=   0.0s\n",
      "[CV 4/5] END ...C=0.1, gamma=0.0001, kernel=rbf;, score=0.156 total time=   0.0s\n",
      "[CV 5/5] END ...C=0.1, gamma=0.0001, kernel=rbf;, score=0.116 total time=   0.0s\n",
      "[CV 1/5] END ..........C=1, gamma=1, kernel=rbf;, score=0.809 total time=   0.0s\n",
      "[CV 2/5] END ..........C=1, gamma=1, kernel=rbf;, score=0.740 total time=   0.0s\n",
      "[CV 3/5] END ..........C=1, gamma=1, kernel=rbf;, score=0.810 total time=   0.0s\n",
      "[CV 4/5] END ..........C=1, gamma=1, kernel=rbf;, score=0.777 total time=   0.0s\n",
      "[CV 5/5] END ..........C=1, gamma=1, kernel=rbf;, score=0.776 total time=   0.0s\n",
      "[CV 1/5] END ........C=1, gamma=0.1, kernel=rbf;, score=0.898 total time=   0.0s\n",
      "[CV 2/5] END ........C=1, gamma=0.1, kernel=rbf;, score=0.866 total time=   0.0s\n",
      "[CV 3/5] END ........C=1, gamma=0.1, kernel=rbf;, score=0.912 total time=   0.0s\n",
      "[CV 4/5] END ........C=1, gamma=0.1, kernel=rbf;, score=0.887 total time=   0.0s\n",
      "[CV 5/5] END ........C=1, gamma=0.1, kernel=rbf;, score=0.877 total time=   0.0s\n",
      "[CV 1/5] END .......C=1, gamma=0.01, kernel=rbf;, score=0.770 total time=   0.0s\n",
      "[CV 2/5] END .......C=1, gamma=0.01, kernel=rbf;, score=0.757 total time=   0.0s\n",
      "[CV 3/5] END .......C=1, gamma=0.01, kernel=rbf;, score=0.831 total time=   0.0s\n",
      "[CV 4/5] END .......C=1, gamma=0.01, kernel=rbf;, score=0.795 total time=   0.0s\n",
      "[CV 5/5] END .......C=1, gamma=0.01, kernel=rbf;, score=0.766 total time=   0.0s\n",
      "[CV 1/5] END ......C=1, gamma=0.001, kernel=rbf;, score=0.620 total time=   0.0s\n",
      "[CV 2/5] END ......C=1, gamma=0.001, kernel=rbf;, score=0.640 total time=   0.0s\n",
      "[CV 3/5] END ......C=1, gamma=0.001, kernel=rbf;, score=0.737 total time=   0.0s\n",
      "[CV 4/5] END ......C=1, gamma=0.001, kernel=rbf;, score=0.694 total time=   0.0s\n",
      "[CV 5/5] END ......C=1, gamma=0.001, kernel=rbf;, score=0.610 total time=   0.0s\n",
      "[CV 1/5] END .....C=1, gamma=0.0001, kernel=rbf;, score=0.509 total time=   0.0s\n",
      "[CV 2/5] END .....C=1, gamma=0.0001, kernel=rbf;, score=0.505 total time=   0.0s\n",
      "[CV 3/5] END .....C=1, gamma=0.0001, kernel=rbf;, score=0.587 total time=   0.0s\n",
      "[CV 4/5] END .....C=1, gamma=0.0001, kernel=rbf;, score=0.561 total time=   0.0s\n",
      "[CV 5/5] END .....C=1, gamma=0.0001, kernel=rbf;, score=0.445 total time=   0.0s\n",
      "[CV 1/5] END .........C=10, gamma=1, kernel=rbf;, score=0.967 total time=   0.0s\n",
      "[CV 2/5] END .........C=10, gamma=1, kernel=rbf;, score=0.939 total time=   0.0s\n",
      "[CV 3/5] END .........C=10, gamma=1, kernel=rbf;, score=0.907 total time=   0.0s\n",
      "[CV 4/5] END .........C=10, gamma=1, kernel=rbf;, score=0.977 total time=   0.0s\n",
      "[CV 5/5] END .........C=10, gamma=1, kernel=rbf;, score=0.936 total time=   0.0s\n",
      "[CV 1/5] END .......C=10, gamma=0.1, kernel=rbf;, score=0.958 total time=   0.0s\n",
      "[CV 2/5] END .......C=10, gamma=0.1, kernel=rbf;, score=0.957 total time=   0.0s\n",
      "[CV 3/5] END .......C=10, gamma=0.1, kernel=rbf;, score=0.943 total time=   0.0s\n",
      "[CV 4/5] END .......C=10, gamma=0.1, kernel=rbf;, score=0.968 total time=   0.0s\n",
      "[CV 5/5] END .......C=10, gamma=0.1, kernel=rbf;, score=0.950 total time=   0.0s\n",
      "[CV 1/5] END ......C=10, gamma=0.01, kernel=rbf;, score=0.843 total time=   0.0s\n",
      "[CV 2/5] END ......C=10, gamma=0.01, kernel=rbf;, score=0.851 total time=   0.0s\n",
      "[CV 3/5] END ......C=10, gamma=0.01, kernel=rbf;, score=0.883 total time=   0.0s\n",
      "[CV 4/5] END ......C=10, gamma=0.01, kernel=rbf;, score=0.867 total time=   0.0s\n",
      "[CV 5/5] END ......C=10, gamma=0.01, kernel=rbf;, score=0.866 total time=   0.0s\n",
      "[CV 1/5] END .....C=10, gamma=0.001, kernel=rbf;, score=0.694 total time=   0.0s\n",
      "[CV 2/5] END .....C=10, gamma=0.001, kernel=rbf;, score=0.747 total time=   0.0s\n",
      "[CV 3/5] END .....C=10, gamma=0.001, kernel=rbf;, score=0.813 total time=   0.0s\n",
      "[CV 4/5] END .....C=10, gamma=0.001, kernel=rbf;, score=0.766 total time=   0.0s\n",
      "[CV 5/5] END .....C=10, gamma=0.001, kernel=rbf;, score=0.719 total time=   0.0s\n",
      "[CV 1/5] END ....C=10, gamma=0.0001, kernel=rbf;, score=0.610 total time=   0.0s\n",
      "[CV 2/5] END ....C=10, gamma=0.0001, kernel=rbf;, score=0.624 total time=   0.0s\n",
      "[CV 3/5] END ....C=10, gamma=0.0001, kernel=rbf;, score=0.715 total time=   0.0s\n",
      "[CV 4/5] END ....C=10, gamma=0.0001, kernel=rbf;, score=0.673 total time=   0.0s\n",
      "[CV 5/5] END ....C=10, gamma=0.0001, kernel=rbf;, score=0.584 total time=   0.0s\n",
      "[CV 1/5] END ........C=100, gamma=1, kernel=rbf;, score=0.967 total time=   0.0s\n",
      "[CV 2/5] END ........C=100, gamma=1, kernel=rbf;, score=0.939 total time=   0.0s\n",
      "[CV 3/5] END ........C=100, gamma=1, kernel=rbf;, score=0.910 total time=   0.0s\n",
      "[CV 4/5] END ........C=100, gamma=1, kernel=rbf;, score=0.975 total time=   0.0s\n",
      "[CV 5/5] END ........C=100, gamma=1, kernel=rbf;, score=0.935 total time=   0.0s\n",
      "[CV 1/5] END ......C=100, gamma=0.1, kernel=rbf;, score=0.970 total time=   0.0s\n",
      "[CV 2/5] END ......C=100, gamma=0.1, kernel=rbf;, score=0.980 total time=   0.0s\n",
      "[CV 3/5] END ......C=100, gamma=0.1, kernel=rbf;, score=0.946 total time=   0.0s\n",
      "[CV 4/5] END ......C=100, gamma=0.1, kernel=rbf;, score=0.971 total time=   0.0s\n",
      "[CV 5/5] END ......C=100, gamma=0.1, kernel=rbf;, score=0.963 total time=   0.0s\n",
      "[CV 1/5] END .....C=100, gamma=0.01, kernel=rbf;, score=0.915 total time=   0.0s\n",
      "[CV 2/5] END .....C=100, gamma=0.01, kernel=rbf;, score=0.934 total time=   0.0s\n",
      "[CV 3/5] END .....C=100, gamma=0.01, kernel=rbf;, score=0.928 total time=   0.0s\n",
      "[CV 4/5] END .....C=100, gamma=0.01, kernel=rbf;, score=0.949 total time=   0.0s\n",
      "[CV 5/5] END .....C=100, gamma=0.01, kernel=rbf;, score=0.932 total time=   0.0s\n",
      "[CV 1/5] END ....C=100, gamma=0.001, kernel=rbf;, score=0.786 total time=   0.0s\n",
      "[CV 2/5] END ....C=100, gamma=0.001, kernel=rbf;, score=0.830 total time=   0.0s\n",
      "[CV 3/5] END ....C=100, gamma=0.001, kernel=rbf;, score=0.864 total time=   0.0s\n",
      "[CV 4/5] END ....C=100, gamma=0.001, kernel=rbf;, score=0.851 total time=   0.0s\n",
      "[CV 5/5] END ....C=100, gamma=0.001, kernel=rbf;, score=0.825 total time=   0.0s\n",
      "[CV 1/5] END ...C=100, gamma=0.0001, kernel=rbf;, score=0.684 total time=   0.0s\n",
      "[CV 2/5] END ...C=100, gamma=0.0001, kernel=rbf;, score=0.738 total time=   0.0s\n",
      "[CV 3/5] END ...C=100, gamma=0.0001, kernel=rbf;, score=0.789 total time=   0.0s\n",
      "[CV 4/5] END ...C=100, gamma=0.0001, kernel=rbf;, score=0.750 total time=   0.0s\n",
      "[CV 5/5] END ...C=100, gamma=0.0001, kernel=rbf;, score=0.696 total time=   0.0s\n",
      "[CV 1/5] END .......C=1000, gamma=1, kernel=rbf;, score=0.967 total time=   0.0s\n",
      "[CV 2/5] END .......C=1000, gamma=1, kernel=rbf;, score=0.939 total time=   0.0s\n",
      "[CV 3/5] END .......C=1000, gamma=1, kernel=rbf;, score=0.910 total time=   0.0s\n",
      "[CV 4/5] END .......C=1000, gamma=1, kernel=rbf;, score=0.975 total time=   0.0s\n",
      "[CV 5/5] END .......C=1000, gamma=1, kernel=rbf;, score=0.935 total time=   0.0s\n",
      "[CV 1/5] END .....C=1000, gamma=0.1, kernel=rbf;, score=0.961 total time=   0.0s\n",
      "[CV 2/5] END .....C=1000, gamma=0.1, kernel=rbf;, score=0.975 total time=   0.0s\n",
      "[CV 3/5] END .....C=1000, gamma=0.1, kernel=rbf;, score=0.942 total time=   0.0s\n"
     ]
    },
    {
     "name": "stdout",
     "output_type": "stream",
     "text": [
      "[CV 4/5] END .....C=1000, gamma=0.1, kernel=rbf;, score=0.942 total time=   0.0s\n",
      "[CV 5/5] END .....C=1000, gamma=0.1, kernel=rbf;, score=0.947 total time=   0.0s\n",
      "[CV 1/5] END ....C=1000, gamma=0.01, kernel=rbf;, score=0.893 total time=   0.0s\n",
      "[CV 2/5] END ....C=1000, gamma=0.01, kernel=rbf;, score=0.957 total time=   0.0s\n",
      "[CV 3/5] END ....C=1000, gamma=0.01, kernel=rbf;, score=0.939 total time=   0.0s\n",
      "[CV 4/5] END ....C=1000, gamma=0.01, kernel=rbf;, score=0.982 total time=   0.0s\n",
      "[CV 5/5] END ....C=1000, gamma=0.01, kernel=rbf;, score=0.961 total time=   0.0s\n",
      "[CV 1/5] END ...C=1000, gamma=0.001, kernel=rbf;, score=0.897 total time=   0.0s\n",
      "[CV 2/5] END ...C=1000, gamma=0.001, kernel=rbf;, score=0.900 total time=   0.0s\n",
      "[CV 3/5] END ...C=1000, gamma=0.001, kernel=rbf;, score=0.909 total time=   0.0s\n",
      "[CV 4/5] END ...C=1000, gamma=0.001, kernel=rbf;, score=0.918 total time=   0.0s\n",
      "[CV 5/5] END ...C=1000, gamma=0.001, kernel=rbf;, score=0.911 total time=   0.0s\n",
      "[CV 1/5] END ..C=1000, gamma=0.0001, kernel=rbf;, score=0.766 total time=   0.0s\n",
      "[CV 2/5] END ..C=1000, gamma=0.0001, kernel=rbf;, score=0.818 total time=   0.0s\n",
      "[CV 3/5] END ..C=1000, gamma=0.0001, kernel=rbf;, score=0.839 total time=   0.0s\n",
      "[CV 4/5] END ..C=1000, gamma=0.0001, kernel=rbf;, score=0.844 total time=   0.0s\n",
      "[CV 5/5] END ..C=1000, gamma=0.0001, kernel=rbf;, score=0.799 total time=   0.0s\n"
     ]
    },
    {
     "data": {
      "text/plain": [
       "GridSearchCV(estimator=SVR(),\n",
       "             param_grid={'C': [0.1, 1, 10, 100, 1000],\n",
       "                         'gamma': [1, 0.1, 0.01, 0.001, 0.0001],\n",
       "                         'kernel': ['rbf']},\n",
       "             verbose=3)"
      ]
     },
     "execution_count": 316,
     "metadata": {},
     "output_type": "execute_result"
    }
   ],
   "source": [
    "from sklearn.model_selection import GridSearchCV\n",
    "  \n",
    "# defining parameter range\n",
    "param_grid = {'C': [0.1, 1, 10, 100, 1000], \n",
    "              'gamma': [1, 0.1, 0.01, 0.001, 0.0001],\n",
    "              'kernel': ['rbf']} \n",
    "\n",
    "grid = GridSearchCV(SVR(), param_grid, refit = True, verbose = 3)\n",
    "grid.fit(X_train, y_train)"
   ]
  },
  {
   "cell_type": "code",
   "execution_count": null,
   "id": "e165edb6",
   "metadata": {},
   "outputs": [],
   "source": []
  },
  {
   "cell_type": "code",
   "execution_count": 390,
   "id": "02000215",
   "metadata": {},
   "outputs": [
    {
     "name": "stdout",
     "output_type": "stream",
     "text": [
      "{'C': 100, 'gamma': 0.1, 'kernel': 'rbf'}\n",
      "SVR(C=100, gamma=0.1)\n"
     ]
    }
   ],
   "source": [
    "# print best parameter after tuning\n",
    "print(grid.best_params_)\n",
    "  \n",
    "# print how our model looks after hyper-parameter tuning\n",
    "print(grid.best_estimator_)"
   ]
  },
  {
   "cell_type": "code",
   "execution_count": 124,
   "id": "61464b5c",
   "metadata": {},
   "outputs": [
    {
     "name": "stdout",
     "output_type": "stream",
     "text": [
      "R-squared: 0.9765102500493692\n",
      "RMSE: 0.3226290281494491\n"
     ]
    }
   ],
   "source": [
    "regressor = SVR(kernel = 'rbf',C=100,gamma=0.1)\n",
    "regressor.fit(X_train, y_train)\n",
    "yfit = regressor.predict(X_test)\n",
    "score = regressor.score(X_test, y_test)\n",
    "print(\"R-squared:\", score)\n",
    "print(\"RMSE:\", mean_squared_error(y_test, yfit))"
   ]
  },
  {
   "cell_type": "code",
   "execution_count": null,
   "id": "10c0832e",
   "metadata": {},
   "outputs": [],
   "source": []
  },
  {
   "cell_type": "code",
   "execution_count": 14,
   "id": "388ce7bb",
   "metadata": {},
   "outputs": [
    {
     "name": "stdout",
     "output_type": "stream",
     "text": [
      "DecisionTreeRegressor(criterion='mse', max_depth=3)\n"
     ]
    },
    {
     "name": "stderr",
     "output_type": "stream",
     "text": [
      "C:\\Users\\soura\\anaconda3\\lib\\site-packages\\sklearn\\tree\\_classes.py:359: FutureWarning: Criterion 'mse' was deprecated in v1.0 and will be removed in version 1.2. Use `criterion='squared_error'` which is equivalent.\n",
      "  warnings.warn(\n"
     ]
    }
   ],
   "source": [
    "from sklearn import tree\n",
    "#choose from different tunable hyper parameters\n",
    "RegModel = tree.DecisionTreeRegressor(max_depth=3,criterion='mse')\n",
    " \n",
    "#Printing all the parameters of Decision Tree\n",
    "print(RegModel)\n",
    " \n",
    "    \n",
    "DTree=RegModel.fit(X_train,y_train)\n",
    "prediction=DTree.predict(X_test)"
   ]
  },
  {
   "cell_type": "code",
   "execution_count": 15,
   "id": "2930ca2d",
   "metadata": {},
   "outputs": [
    {
     "name": "stdout",
     "output_type": "stream",
     "text": [
      "R2 Value: 0.7474078413831668\n"
     ]
    },
    {
     "data": {
      "text/plain": [
       "2.7210067178610475"
      ]
     },
     "execution_count": 15,
     "metadata": {},
     "output_type": "execute_result"
    }
   ],
   "source": [
    "#Measuring Goodness of fit in Training data\n",
    "from sklearn import metrics\n",
    "from math import sqrt\n",
    "print('R2 Value:',metrics.r2_score(DTree.predict(X_test),y_test))\n",
    "mean_squared_error(y_test, DTree.predict(X_test))"
   ]
  },
  {
   "cell_type": "code",
   "execution_count": 16,
   "id": "9d2b7c5f",
   "metadata": {},
   "outputs": [],
   "source": [
    "\n",
    "# Necessary imports\n",
    "import numpy as np\n",
    "import pandas as pd\n",
    "import xgboost as xg\n",
    "from sklearn.model_selection import train_test_split\n",
    "from sklearn.metrics import mean_squared_error as MSE\n",
    "#xgb_r = xg.XGBRegressor(objective ='reg:linear',n_estimators = 10, seed = 123)"
   ]
  },
  {
   "cell_type": "code",
   "execution_count": 347,
   "id": "4e4f6309",
   "metadata": {},
   "outputs": [
    {
     "name": "stdout",
     "output_type": "stream",
     "text": [
      "Collecting xgboost\n",
      "  Downloading xgboost-1.7.3-py3-none-win_amd64.whl (89.1 MB)\n",
      "     ---------------------------------------- 89.1/89.1 MB 1.2 MB/s eta 0:00:00\n",
      "Requirement already satisfied: scipy in c:\\users\\soura\\anaconda3\\lib\\site-packages (from xgboost) (1.7.3)\n",
      "Requirement already satisfied: numpy in c:\\users\\soura\\anaconda3\\lib\\site-packages (from xgboost) (1.21.5)\n",
      "Installing collected packages: xgboost\n",
      "Successfully installed xgboost-1.7.3\n",
      "Note: you may need to restart the kernel to use updated packages.\n"
     ]
    },
    {
     "name": "stderr",
     "output_type": "stream",
     "text": [
      "\n",
      "[notice] A new release of pip available: 22.3.1 -> 23.0\n",
      "[notice] To update, run: python.exe -m pip install --upgrade pip\n"
     ]
    }
   ],
   "source": [
    "pip install xgboost"
   ]
  },
  {
   "cell_type": "code",
   "execution_count": 17,
   "id": "9d4090b4",
   "metadata": {},
   "outputs": [
    {
     "name": "stdout",
     "output_type": "stream",
     "text": [
      "[01:03:23] WARNING: C:/buildkite-agent/builds/buildkite-windows-cpu-autoscaling-group-i-08de971ced8a8cdc6-1/xgboost/xgboost-ci-windows/src/objective/regression_obj.cu:213: reg:linear is now deprecated in favor of reg:squarederror.\n"
     ]
    }
   ],
   "source": [
    "xgb_r = xg.XGBRegressor(objective ='reg:linear',n_estimators = 11, seed = 123)\n",
    "  \n",
    "# Fitting the model\n",
    "xgb_r.fit(X_train, y_train)\n",
    "  \n",
    "# Predict the model\n",
    "pred = xgb_r.predict(X_test)"
   ]
  },
  {
   "cell_type": "code",
   "execution_count": 18,
   "id": "25e84a55",
   "metadata": {},
   "outputs": [
    {
     "name": "stdout",
     "output_type": "stream",
     "text": [
      "RMSE :  1.201288\n"
     ]
    }
   ],
   "source": [
    "rmse = np.sqrt(MSE(y_test, pred))\n",
    "print(\"RMSE : % f\" %(rmse))"
   ]
  },
  {
   "cell_type": "code",
   "execution_count": 11,
   "id": "1eca166e",
   "metadata": {},
   "outputs": [],
   "source": [
    "import pandas  as pd\n",
    "import numpy   as np\n",
    "import xgboost as xgb\n",
    "regressor=xgb.XGBRegressor(eval_metric='rmse')"
   ]
  },
  {
   "cell_type": "code",
   "execution_count": 20,
   "id": "42c920ad",
   "metadata": {},
   "outputs": [
    {
     "name": "stdout",
     "output_type": "stream",
     "text": [
      "The best hyperparameters are  {'colsample_bytree': 0.3, 'gamma': 0.1, 'learning_rate': 0.15, 'max_depth': 8, 'min_child_weight': 5}\n"
     ]
    }
   ],
   "source": [
    "regressor=xgb.XGBRegressor(eval_metric='rmse')\n",
    "\n",
    "#=========================================================================\n",
    "# exhaustively search for the optimal hyperparameters\n",
    "#=========================================================================\n",
    "from sklearn.model_selection import GridSearchCV\n",
    "# set up our search grid\n",
    "param_grid = {\n",
    "    \"learning_rate\"    : [0.05, 0.10, 0.15, 0.20, 0.25, 0.30 ] ,\n",
    " \"max_depth\"        : [ 3, 4, 5, 6, 8, 10, 12, 15],\n",
    " \"min_child_weight\" : [ 1, 3, 5, 7 ],\n",
    " \"gamma\"            : [ 0.0, 0.1, 0.2 , 0.3, 0.4 ],\n",
    " \"colsample_bytree\" : [ 0.3, 0.4, 0.5 , 0.7 ]\n",
    "}\n",
    "\n",
    "# try out every combination of the above values\n",
    "search = GridSearchCV(regressor, param_grid, cv=5).fit(X_train, y_train)\n",
    "\n",
    "print(\"The best hyperparameters are \",search.best_params_)"
   ]
  },
  {
   "cell_type": "code",
   "execution_count": 27,
   "id": "1735ebcf",
   "metadata": {},
   "outputs": [],
   "source": [
    "regressor=xgb.XGBRegressor(learning_rate = search.best_params_[\"learning_rate\"],\n",
    "                           n_estimators=600,\n",
    "                           max_depth     = search.best_params_[\"max_depth\"],\n",
    "                           min_child_weight=search.best_params_[\"min_child_weight\"],\n",
    "                           gamma=search.best_params_[\"gamma\"],\n",
    "                           colsample_bytree=search.best_params_[\"colsample_bytree\"],\n",
    "                          )\n",
    "\n",
    "regressor.fit(X_train, y_train)\n",
    "\n",
    "#=========================================================================\n",
    "# To use early_stopping_rounds: \n",
    "# \"Validation metric needs to improve at least once in every \n",
    "# early_stopping_rounds round(s) to continue training.\"\n",
    "#=========================================================================\n",
    "# first perform a test/train split \n",
    "#from sklearn.model_selection import train_test_split\n",
    "\n",
    "#X_train,X_test,y_train,y_test = train_test_split(X_train,y_train, test_size = 0.2)\n",
    "#regressor.fit(X_train, y_train, early_stopping_rounds=6, eval_set=[(X_test, y_test)], verbose=False)\n",
    "\n",
    "#=========================================================================\n",
    "# use the model to predict the prices for the test data\n",
    "#=========================================================================\n",
    "predictions = regressor.predict(X_test)"
   ]
  },
  {
   "cell_type": "code",
   "execution_count": 30,
   "id": "cc492e39",
   "metadata": {},
   "outputs": [
    {
     "name": "stdout",
     "output_type": "stream",
     "text": [
      "The rmse score is 0.83433\n",
      "score : 0.9493181934808774\n"
     ]
    }
   ],
   "source": [
    "RMSE =  mean_squared_error(y_test, predictions) \n",
    "score=regressor.score(X_test,y_test)\n",
    "print(\"The rmse score is %.5f\" % RMSE )\n",
    "print(\"score :\",score)"
   ]
  },
  {
   "cell_type": "code",
   "execution_count": 12,
   "id": "be1e76d4",
   "metadata": {},
   "outputs": [],
   "source": [
    "regressor=xgb.XGBRegressor(colsample_bytree= 0.3,\n",
    "                           gamma=0.1,\n",
    "                           learning_rate= 0.15,\n",
    "                           max_depth= 7,\n",
    "                           min_child_weight= 5,\n",
    "                           n_estimators=300\n",
    "                          )\n",
    "\n",
    "regressor.fit(X_train, y_train)\n",
    "\n",
    "#=========================================================================\n",
    "# To use early_stopping_rounds: \n",
    "# \"Validation metric needs to improve at least once in every \n",
    "# early_stopping_rounds round(s) to continue training.\"\n",
    "#=========================================================================\n",
    "# first perform a test/train split \n",
    "#from sklearn.model_selection import train_test_split\n",
    "\n",
    "#X_train,X_test,y_train,y_test = train_test_split(X_train,y_train, test_size = 0.2)\n",
    "#regressor.fit(X_train, y_train, early_stopping_rounds=6, eval_set=[(X_test, y_test)], verbose=False)\n",
    "\n",
    "#=========================================================================\n",
    "# use the model to predict the prices for the test data\n",
    "#=========================================================================\n",
    "predictions = regressor.predict(X_test)"
   ]
  },
  {
   "cell_type": "code",
   "execution_count": 13,
   "id": "9b5dbb6f",
   "metadata": {},
   "outputs": [
    {
     "name": "stdout",
     "output_type": "stream",
     "text": [
      "The rmse score is 0.71925\n",
      "score : 0.9476333857449177\n"
     ]
    }
   ],
   "source": [
    "RMSE =  mean_squared_error(y_test, predictions) \n",
    "score=regressor.score(X_test,y_test)\n",
    "print(\"The rmse score is %.5f\" % RMSE )\n",
    "print(\"score :\",score)"
   ]
  },
  {
   "cell_type": "code",
   "execution_count": 14,
   "id": "042ee3e9",
   "metadata": {},
   "outputs": [
    {
     "name": "stdout",
     "output_type": "stream",
     "text": [
      "R^2  0.9669166177210113 RMSE value for k=  1 is: 0.4543964705882353\n",
      "R^2  0.9711705343942493 RMSE value for k=  2 is: 0.39596941176470607\n",
      "R^2  0.965561673780943 RMSE value for k=  3 is: 0.47300647058823525\n",
      "R^2  0.9608997524671559 RMSE value for k=  4 is: 0.5370374264705883\n",
      "R^2  0.9575615154913125 RMSE value for k=  5 is: 0.5828877294117647\n",
      "R^2  0.9550367783000865 RMSE value for k=  6 is: 0.617564705882353\n",
      "R^2  0.9470277877414668 RMSE value for k=  7 is: 0.7275672749099638\n",
      "R^2  0.9402687182725353 RMSE value for k=  8 is: 0.8204023207720587\n",
      "R^2  0.9357423986842116 RMSE value for k=  9 is: 0.8825708024691353\n",
      "R^2  0.9279316783286737 RMSE value for k=  10 is: 0.9898501529411764\n",
      "R^2  0.9210005301556552 RMSE value for k=  11 is: 1.0850486801166743\n",
      "R^2  0.9147978434079511 RMSE value for k=  12 is: 1.1702418729575157\n",
      "R^2  0.9103279740351029 RMSE value for k=  13 is: 1.23163501740341\n",
      "R^2  0.9054313347754194 RMSE value for k=  14 is: 1.2988897974189673\n",
      "R^2  0.8992198293546457 RMSE value for k=  15 is: 1.3842041137254897\n",
      "R^2  0.8926699793801192 RMSE value for k=  16 is: 1.4741655537683824\n",
      "R^2  0.8873830158310422 RMSE value for k=  17 is: 1.5467813932424186\n",
      "R^2  0.8820697808182912 RMSE value for k=  18 is: 1.619758068264344\n",
      "R^2  0.8780653784077355 RMSE value for k=  19 is: 1.6747580772364365\n",
      "R^2  0.8743743367223051 RMSE value for k=  20 is: 1.725454112500002\n"
     ]
    }
   ],
   "source": [
    "#import required packages\n",
    "from sklearn import neighbors\n",
    "from sklearn.metrics import mean_squared_error \n",
    "from math import sqrt\n",
    "import matplotlib.pyplot as plt\n",
    "%matplotlib inline\n",
    "rmse_val = [] #to store rmse values for different k\n",
    "for K in range(20):\n",
    "    K = K+1\n",
    "    model = neighbors.KNeighborsRegressor(n_neighbors = K)\n",
    "\n",
    "    model.fit(X_train, y_train)  #fit the model\n",
    "    pred=model.predict(X_test) #make prediction on test set\n",
    "    \n",
    "    error = mean_squared_error(y_test,pred) #calculate rmse\n",
    "    rmse_val.append(error) #store rmse values\n",
    "    print('R^2 ', model.score(X_test,y_test),'RMSE value for k= ' , K , 'is:', error)"
   ]
  },
  {
   "cell_type": "code",
   "execution_count": 15,
   "id": "1d5a6849",
   "metadata": {},
   "outputs": [
    {
     "name": "stdout",
     "output_type": "stream",
     "text": [
      "AdaBoostRegressor(base_estimator=DecisionTreeRegressor(max_depth=1),\n",
      "                  learning_rate=1)\n",
      "R2 Value: 0.6575049045371462\n",
      "Accuracy 94.24322264787129\n",
      "4.5098498967643135\n"
     ]
    }
   ],
   "source": [
    "from sklearn.ensemble import AdaBoostRegressor\n",
    "from sklearn.tree import DecisionTreeRegressor\n",
    " \n",
    "#Choosing Decision Tree with 1 level as the weak learner\n",
    "DTR=DecisionTreeRegressor(max_depth=1)\n",
    "RegModel = AdaBoostRegressor(n_estimators=50, base_estimator=DTR ,learning_rate=1)\n",
    " \n",
    "#Printing all the parameters of Adaboost\n",
    "print(RegModel)\n",
    " \n",
    "#Creating the model on Training Data\n",
    "AB=RegModel.fit(X_train,y_train)\n",
    "prediction=AB.predict(X_test)\n",
    " \n",
    "#Measuring Goodness of fit in Training data\n",
    "from sklearn import metrics\n",
    "print('R2 Value:',metrics.r2_score(y_train, AB.predict(X_train)))\n",
    " \n",
    "#Measuring accuracy on Testing Data\n",
    "print('Accuracy',100- (np.mean(np.abs((y_test - prediction) / y_test)) * 100))\n",
    "error = mean_squared_error(y_test,prediction)\n",
    "print(error)"
   ]
  },
  {
   "cell_type": "code",
   "execution_count": 31,
   "id": "82de4d09",
   "metadata": {},
   "outputs": [],
   "source": [
    "from sklearn.ensemble import AdaBoostRegressor\n",
    "from sklearn import tree\n",
    "from sklearn.model_selection import GridSearchCV\n",
    "import numpy as np\n",
    "# from pydataset import data\n",
    "import pandas as pd\n",
    "from sklearn.model_selection import cross_val_score\n",
    "from sklearn.model_selection import train_test_split\n",
    "from sklearn.model_selection import KFold\n",
    "from sklearn.metrics import mean_squared_error"
   ]
  },
  {
   "cell_type": "code",
   "execution_count": 34,
   "id": "af26a590",
   "metadata": {},
   "outputs": [
    {
     "name": "stdout",
     "output_type": "stream",
     "text": [
      "1 -4.744904452824532\n",
      "2 -3.5182318487759003\n",
      "3 -2.5869823407092865\n",
      "4 -2.177873038381258\n",
      "5 -1.7484370716110837\n",
      "6 -1.5138230768593772\n",
      "7 -1.5332134556327723\n",
      "8 -1.567445776835695\n",
      "9 -1.5559496743343173\n"
     ]
    }
   ],
   "source": [
    "crossvalidation=KFold(n_splits=10,shuffle=True,random_state=1)\n",
    "for depth in range (1,10):\n",
    "    tree_regressor=tree.DecisionTreeRegressor(max_depth=depth,random_state=1)\n",
    "    if tree_regressor.fit(X_train,y_train).tree_.max_depth<depth:\n",
    "        break\n",
    "    score=np.mean(cross_val_score(tree_regressor,X_train,y_train,scoring='neg_mean_squared_error', cv=crossvalidation,n_jobs=1))\n",
    "    print(depth, score)"
   ]
  },
  {
   "cell_type": "code",
   "execution_count": 35,
   "id": "86d6e2a8",
   "metadata": {},
   "outputs": [],
   "source": [
    "ada=AdaBoostRegressor()\n",
    "search_grid={'n_estimators':[500,1000,2000],'learning_rate':[.001,0.01,.1],'random_state':[1]}\n",
    "search=GridSearchCV(estimator=ada,param_grid=search_grid,scoring='neg_mean_squared_error',n_jobs=1,cv=crossvalidation)"
   ]
  },
  {
   "cell_type": "code",
   "execution_count": 36,
   "id": "1f67b2b4",
   "metadata": {},
   "outputs": [
    {
     "data": {
      "text/plain": [
       "{'learning_rate': 0.01, 'n_estimators': 2000, 'random_state': 1}"
      ]
     },
     "execution_count": 36,
     "metadata": {},
     "output_type": "execute_result"
    }
   ],
   "source": [
    "search.fit(X_train,y_train)\n",
    "search.best_params_"
   ]
  },
  {
   "cell_type": "code",
   "execution_count": 40,
   "id": "6db4f479",
   "metadata": {},
   "outputs": [
    {
     "name": "stdout",
     "output_type": "stream",
     "text": [
      "-1.5145643311314099\n"
     ]
    }
   ],
   "source": [
    "ada2=AdaBoostRegressor(n_estimators=2000,learning_rate=0.01,random_state=1)\n",
    "score=np.mean(cross_val_score(ada2,X_train,y_train,scoring='neg_mean_squared_error',cv=crossvalidation,n_jobs=1))\n",
    "print(score)"
   ]
  },
  {
   "cell_type": "code",
   "execution_count": 63,
   "id": "a408e7ea",
   "metadata": {},
   "outputs": [
    {
     "name": "stdout",
     "output_type": "stream",
     "text": [
      "AdaBoostRegressor(base_estimator=DecisionTreeRegressor(max_depth=6),\n",
      "                  learning_rate=0.05, n_estimators=2000, random_state=1)\n",
      "R2 Value: 0.9392006442273972\n",
      "Accuracy 98.90488645413465\n",
      "0.8350721955854898\n"
     ]
    }
   ],
   "source": [
    "from sklearn.ensemble import AdaBoostRegressor\n",
    "from sklearn.tree import DecisionTreeRegressor\n",
    " \n",
    "#Choosing Decision Tree with 1 level as the weak learner\n",
    "DTR=DecisionTreeRegressor(max_depth=6)\n",
    "RegModel = AdaBoostRegressor(n_estimators=2000,learning_rate=0.05,random_state=1, base_estimator=DTR )\n",
    " \n",
    "#Printing all the parameters of Adaboost\n",
    "print(RegModel)\n",
    " \n",
    "#Creating the model on Training Data\n",
    "AB=RegModel.fit(X_train,y_train)\n",
    "prediction=AB.predict(X_test)\n",
    " \n",
    "#Measuring Goodness of fit in Training data\n",
    "from sklearn import metrics\n",
    "print('R2 Value:',metrics.r2_score(y_test, AB.predict(X_test)))\n",
    " \n",
    "#Measuring accuracy on Testing Data\n",
    "print('Accuracy',100- (np.mean(np.abs((y_test - prediction) / y_test)) * 100))\n",
    "error = mean_squared_error(y_test,prediction)\n",
    "print(error)"
   ]
  },
  {
   "cell_type": "code",
   "execution_count": 9,
   "id": "7a42c585",
   "metadata": {},
   "outputs": [],
   "source": [
    "from keras.models import Sequential\n",
    "from keras.layers import Dense, Conv1D, Flatten\n",
    "from sklearn.model_selection import train_test_split\n",
    "from sklearn.metrics import mean_squared_error\n",
    "import matplotlib.pyplot as plt"
   ]
  },
  {
   "cell_type": "code",
   "execution_count": 16,
   "id": "f0d3af17",
   "metadata": {},
   "outputs": [],
   "source": [
    "model = Sequential()\n",
    "model.add(Conv1D(32, 2, activation=\"relu\", input_shape=(126,1)))\n",
    "model.add(Flatten())\n",
    "model.add(Dense(64, activation=\"relu\"))\n",
    "model.add(Dense(1))\n",
    "model.compile(loss=\"mse\", optimizer=\"adam\")"
   ]
  },
  {
   "cell_type": "code",
   "execution_count": 17,
   "id": "6aee7d25",
   "metadata": {},
   "outputs": [
    {
     "name": "stdout",
     "output_type": "stream",
     "text": [
      "Model: \"sequential_3\"\n",
      "_________________________________________________________________\n",
      " Layer (type)                Output Shape              Param #   \n",
      "=================================================================\n",
      " conv1d_3 (Conv1D)           (None, 125, 32)           96        \n",
      "                                                                 \n",
      " flatten_1 (Flatten)         (None, 4000)              0         \n",
      "                                                                 \n",
      " dense_2 (Dense)             (None, 64)                256064    \n",
      "                                                                 \n",
      " dense_3 (Dense)             (None, 1)                 65        \n",
      "                                                                 \n",
      "=================================================================\n",
      "Total params: 256,225\n",
      "Trainable params: 256,225\n",
      "Non-trainable params: 0\n",
      "_________________________________________________________________\n"
     ]
    }
   ],
   "source": [
    "\n",
    "model.summary()"
   ]
  },
  {
   "cell_type": "code",
   "execution_count": 22,
   "id": "de4e8a70",
   "metadata": {},
   "outputs": [
    {
     "data": {
      "text/plain": [
       "<keras.callbacks.History at 0x265a70f2550>"
      ]
     },
     "execution_count": 22,
     "metadata": {},
     "output_type": "execute_result"
    }
   ],
   "source": [
    "model.fit(X_train,y_train, batch_size=12,epochs=150, verbose=0)"
   ]
  },
  {
   "cell_type": "code",
   "execution_count": 23,
   "id": "ffba1022",
   "metadata": {},
   "outputs": [
    {
     "name": "stdout",
     "output_type": "stream",
     "text": [
      "11/11 [==============================] - 0s 1ms/step\n"
     ]
    }
   ],
   "source": [
    "ypred = model.predict(X_test)"
   ]
  },
  {
   "cell_type": "code",
   "execution_count": 24,
   "id": "3e6bfc9f",
   "metadata": {},
   "outputs": [
    {
     "name": "stdout",
     "output_type": "stream",
     "text": [
      "11/11 [==============================] - 0s 1ms/step - loss: 1.0856\n",
      "1.0856409072875977\n"
     ]
    }
   ],
   "source": [
    "print(model.evaluate(X_train, y_train))"
   ]
  },
  {
   "cell_type": "code",
   "execution_count": 25,
   "id": "715f4912",
   "metadata": {},
   "outputs": [
    {
     "name": "stdout",
     "output_type": "stream",
     "text": [
      "MSE: 1.3747\n"
     ]
    }
   ],
   "source": [
    "print(\"MSE: %.4f\" % mean_squared_error(y_test, ypred))"
   ]
  },
  {
   "cell_type": "code",
   "execution_count": 52,
   "id": "786aa1ba",
   "metadata": {},
   "outputs": [
    {
     "name": "stdout",
     "output_type": "stream",
     "text": [
      "Epoch 1/300\n",
      "9/9 [==============================] - 0s 911us/step - loss: 991.9176\n",
      "Epoch 2/300\n",
      "9/9 [==============================] - 0s 965us/step - loss: 917.7724\n",
      "Epoch 3/300\n",
      "9/9 [==============================] - 0s 1ms/step - loss: 825.2249\n",
      "Epoch 4/300\n",
      "9/9 [==============================] - 0s 1ms/step - loss: 743.5719\n",
      "Epoch 5/300\n",
      "9/9 [==============================] - 0s 875us/step - loss: 666.3458\n",
      "Epoch 6/300\n",
      "9/9 [==============================] - 0s 1ms/step - loss: 593.8631\n",
      "Epoch 7/300\n",
      "9/9 [==============================] - 0s 1ms/step - loss: 528.6183\n",
      "Epoch 8/300\n",
      "9/9 [==============================] - 0s 877us/step - loss: 471.0349\n",
      "Epoch 9/300\n",
      "9/9 [==============================] - 0s 991us/step - loss: 419.8673\n",
      "Epoch 10/300\n",
      "9/9 [==============================] - 0s 1ms/step - loss: 374.0384\n",
      "Epoch 11/300\n",
      "9/9 [==============================] - 0s 1ms/step - loss: 332.9587\n",
      "Epoch 12/300\n",
      "9/9 [==============================] - 0s 1ms/step - loss: 296.2725\n",
      "Epoch 13/300\n",
      "9/9 [==============================] - 0s 1ms/step - loss: 263.3809\n",
      "Epoch 14/300\n",
      "9/9 [==============================] - 0s 1ms/step - loss: 233.6895\n",
      "Epoch 15/300\n",
      "9/9 [==============================] - 0s 1ms/step - loss: 207.4021\n",
      "Epoch 16/300\n",
      "9/9 [==============================] - 0s 1ms/step - loss: 183.7729\n",
      "Epoch 17/300\n",
      "9/9 [==============================] - 0s 1ms/step - loss: 162.6455\n",
      "Epoch 18/300\n",
      "9/9 [==============================] - 0s 1ms/step - loss: 143.8218\n",
      "Epoch 19/300\n",
      "9/9 [==============================] - 0s 896us/step - loss: 126.8902\n",
      "Epoch 20/300\n",
      "9/9 [==============================] - 0s 1ms/step - loss: 112.0021\n",
      "Epoch 21/300\n",
      "9/9 [==============================] - 0s 1ms/step - loss: 98.7653\n",
      "Epoch 22/300\n",
      "9/9 [==============================] - 0s 876us/step - loss: 86.9594\n",
      "Epoch 23/300\n",
      "9/9 [==============================] - 0s 962us/step - loss: 76.7280\n",
      "Epoch 24/300\n",
      "9/9 [==============================] - 0s 1ms/step - loss: 67.6539\n",
      "Epoch 25/300\n",
      "9/9 [==============================] - 0s 1ms/step - loss: 59.7047\n",
      "Epoch 26/300\n",
      "9/9 [==============================] - 0s 1ms/step - loss: 52.8156\n",
      "Epoch 27/300\n",
      "9/9 [==============================] - 0s 1ms/step - loss: 46.8681\n",
      "Epoch 28/300\n",
      "9/9 [==============================] - 0s 877us/step - loss: 41.6339\n",
      "Epoch 29/300\n",
      "9/9 [==============================] - 0s 1ms/step - loss: 37.1373\n",
      "Epoch 30/300\n",
      "9/9 [==============================] - 0s 875us/step - loss: 33.3218\n",
      "Epoch 31/300\n",
      "9/9 [==============================] - 0s 1ms/step - loss: 30.0217\n",
      "Epoch 32/300\n",
      "9/9 [==============================] - 0s 1ms/step - loss: 27.1835\n",
      "Epoch 33/300\n",
      "9/9 [==============================] - 0s 1ms/step - loss: 24.8443\n",
      "Epoch 34/300\n",
      "9/9 [==============================] - 0s 1ms/step - loss: 22.8098\n",
      "Epoch 35/300\n",
      "9/9 [==============================] - 0s 993us/step - loss: 21.0996\n",
      "Epoch 36/300\n",
      "9/9 [==============================] - 0s 1ms/step - loss: 19.6395\n",
      "Epoch 37/300\n",
      "9/9 [==============================] - 0s 1ms/step - loss: 18.5063\n",
      "Epoch 38/300\n",
      "9/9 [==============================] - 0s 1ms/step - loss: 17.4696\n",
      "Epoch 39/300\n",
      "9/9 [==============================] - 0s 1ms/step - loss: 16.6115\n",
      "Epoch 40/300\n",
      "9/9 [==============================] - 0s 1ms/step - loss: 15.9372\n",
      "Epoch 41/300\n",
      "9/9 [==============================] - 0s 875us/step - loss: 15.3498\n",
      "Epoch 42/300\n",
      "9/9 [==============================] - 0s 1ms/step - loss: 14.8583\n",
      "Epoch 43/300\n",
      "9/9 [==============================] - 0s 875us/step - loss: 14.4650\n",
      "Epoch 44/300\n",
      "9/9 [==============================] - 0s 1ms/step - loss: 14.1579\n",
      "Epoch 45/300\n",
      "9/9 [==============================] - 0s 1000us/step - loss: 13.8980\n",
      "Epoch 46/300\n",
      "9/9 [==============================] - 0s 1ms/step - loss: 13.6599\n",
      "Epoch 47/300\n",
      "9/9 [==============================] - 0s 1ms/step - loss: 13.4916\n",
      "Epoch 48/300\n",
      "9/9 [==============================] - 0s 1ms/step - loss: 13.3407\n",
      "Epoch 49/300\n",
      "9/9 [==============================] - 0s 1ms/step - loss: 13.2275\n",
      "Epoch 50/300\n",
      "9/9 [==============================] - 0s 1ms/step - loss: 13.1289\n",
      "Epoch 51/300\n",
      "9/9 [==============================] - 0s 1ms/step - loss: 13.0579\n",
      "Epoch 52/300\n",
      "9/9 [==============================] - 0s 1ms/step - loss: 12.9927\n",
      "Epoch 53/300\n",
      "9/9 [==============================] - 0s 1ms/step - loss: 12.9449\n",
      "Epoch 54/300\n",
      "9/9 [==============================] - 0s 876us/step - loss: 12.9071\n",
      "Epoch 55/300\n",
      "9/9 [==============================] - 0s 1ms/step - loss: 12.8807\n",
      "Epoch 56/300\n",
      "9/9 [==============================] - 0s 1ms/step - loss: 12.8606\n",
      "Epoch 57/300\n",
      "9/9 [==============================] - 0s 1ms/step - loss: 12.8414\n",
      "Epoch 58/300\n",
      "9/9 [==============================] - 0s 1ms/step - loss: 12.8234\n",
      "Epoch 59/300\n",
      "9/9 [==============================] - 0s 875us/step - loss: 12.8124\n",
      "Epoch 60/300\n",
      "9/9 [==============================] - 0s 1ms/step - loss: 12.8036\n",
      "Epoch 61/300\n",
      "9/9 [==============================] - 0s 2ms/step - loss: 12.8002\n",
      "Epoch 62/300\n",
      "9/9 [==============================] - 0s 1ms/step - loss: 12.7864\n",
      "Epoch 63/300\n",
      "9/9 [==============================] - 0s 1ms/step - loss: 12.7860\n",
      "Epoch 64/300\n",
      "9/9 [==============================] - 0s 875us/step - loss: 12.7804\n",
      "Epoch 65/300\n",
      "9/9 [==============================] - 0s 1ms/step - loss: 12.7793\n",
      "Epoch 66/300\n",
      "9/9 [==============================] - 0s 1ms/step - loss: 12.7768\n",
      "Epoch 67/300\n",
      "9/9 [==============================] - 0s 875us/step - loss: 12.7752\n",
      "Epoch 68/300\n",
      "9/9 [==============================] - 0s 1ms/step - loss: 12.7733\n",
      "Epoch 69/300\n",
      "9/9 [==============================] - 0s 1ms/step - loss: 12.7725\n",
      "Epoch 70/300\n",
      "9/9 [==============================] - 0s 1ms/step - loss: 12.7689\n",
      "Epoch 71/300\n",
      "9/9 [==============================] - 0s 1ms/step - loss: 12.7669\n",
      "Epoch 72/300\n",
      "9/9 [==============================] - 0s 875us/step - loss: 12.7666\n",
      "Epoch 73/300\n",
      "9/9 [==============================] - 0s 1ms/step - loss: 12.7624\n",
      "Epoch 74/300\n",
      "9/9 [==============================] - 0s 1ms/step - loss: 12.7610\n",
      "Epoch 75/300\n",
      "9/9 [==============================] - 0s 1ms/step - loss: 12.7591\n",
      "Epoch 76/300\n",
      "9/9 [==============================] - 0s 1ms/step - loss: 12.7596\n",
      "Epoch 77/300\n",
      "9/9 [==============================] - 0s 1ms/step - loss: 12.7562\n",
      "Epoch 78/300\n",
      "9/9 [==============================] - 0s 875us/step - loss: 12.7562\n",
      "Epoch 79/300\n",
      "9/9 [==============================] - 0s 1ms/step - loss: 12.7556\n",
      "Epoch 80/300\n",
      "9/9 [==============================] - 0s 1ms/step - loss: 12.7525\n",
      "Epoch 81/300\n",
      "9/9 [==============================] - 0s 1ms/step - loss: 12.7508\n",
      "Epoch 82/300\n",
      "9/9 [==============================] - 0s 1ms/step - loss: 12.7498\n",
      "Epoch 83/300\n",
      "9/9 [==============================] - 0s 1ms/step - loss: 12.7484\n",
      "Epoch 84/300\n",
      "9/9 [==============================] - 0s 1ms/step - loss: 12.7478\n",
      "Epoch 85/300\n",
      "9/9 [==============================] - 0s 1000us/step - loss: 12.7467\n",
      "Epoch 86/300\n",
      "9/9 [==============================] - 0s 924us/step - loss: 12.7460\n",
      "Epoch 87/300\n",
      "9/9 [==============================] - 0s 1ms/step - loss: 12.7441\n",
      "Epoch 88/300\n",
      "9/9 [==============================] - 0s 978us/step - loss: 12.7463\n",
      "Epoch 89/300\n",
      "9/9 [==============================] - 0s 1ms/step - loss: 12.7412\n",
      "Epoch 90/300\n",
      "9/9 [==============================] - 0s 1ms/step - loss: 12.7417\n",
      "Epoch 91/300\n",
      "9/9 [==============================] - 0s 1ms/step - loss: 12.7418\n",
      "Epoch 92/300\n",
      "9/9 [==============================] - 0s 1ms/step - loss: 12.7411\n",
      "Epoch 93/300\n",
      "9/9 [==============================] - 0s 1ms/step - loss: 12.7367\n",
      "Epoch 94/300\n",
      "9/9 [==============================] - 0s 1ms/step - loss: 12.7355\n",
      "Epoch 95/300\n",
      "9/9 [==============================] - 0s 875us/step - loss: 12.7366\n",
      "Epoch 96/300\n",
      "9/9 [==============================] - 0s 1ms/step - loss: 12.7337\n",
      "Epoch 97/300\n",
      "9/9 [==============================] - 0s 1ms/step - loss: 12.7337\n",
      "Epoch 98/300\n",
      "9/9 [==============================] - 0s 1ms/step - loss: 12.7325\n",
      "Epoch 99/300\n",
      "9/9 [==============================] - 0s 1ms/step - loss: 12.7310\n",
      "Epoch 100/300\n",
      "9/9 [==============================] - 0s 1ms/step - loss: 12.7318\n",
      "Epoch 101/300\n",
      "9/9 [==============================] - 0s 876us/step - loss: 12.7278\n",
      "Epoch 102/300\n"
     ]
    },
    {
     "name": "stdout",
     "output_type": "stream",
     "text": [
      "9/9 [==============================] - 0s 914us/step - loss: 12.7272\n",
      "Epoch 103/300\n",
      "9/9 [==============================] - 0s 1ms/step - loss: 12.7249\n",
      "Epoch 104/300\n",
      "9/9 [==============================] - 0s 1ms/step - loss: 12.7226\n",
      "Epoch 105/300\n",
      "9/9 [==============================] - 0s 875us/step - loss: 12.7208\n",
      "Epoch 106/300\n",
      "9/9 [==============================] - 0s 954us/step - loss: 12.7186\n",
      "Epoch 107/300\n",
      "9/9 [==============================] - 0s 1ms/step - loss: 12.7182\n",
      "Epoch 108/300\n",
      "9/9 [==============================] - 0s 1ms/step - loss: 12.7141\n",
      "Epoch 109/300\n",
      "9/9 [==============================] - 0s 1ms/step - loss: 12.7110\n",
      "Epoch 110/300\n",
      "9/9 [==============================] - 0s 1ms/step - loss: 12.7099\n",
      "Epoch 111/300\n",
      "9/9 [==============================] - 0s 875us/step - loss: 12.7050\n",
      "Epoch 112/300\n",
      "9/9 [==============================] - 0s 1ms/step - loss: 12.7004\n",
      "Epoch 113/300\n",
      "9/9 [==============================] - 0s 1ms/step - loss: 12.6966\n",
      "Epoch 114/300\n",
      "9/9 [==============================] - 0s 1ms/step - loss: 12.6905\n",
      "Epoch 115/300\n",
      "9/9 [==============================] - 0s 1ms/step - loss: 12.6852\n",
      "Epoch 116/300\n",
      "9/9 [==============================] - 0s 1ms/step - loss: 12.6766\n",
      "Epoch 117/300\n",
      "9/9 [==============================] - 0s 889us/step - loss: 12.6704\n",
      "Epoch 118/300\n",
      "9/9 [==============================] - 0s 1ms/step - loss: 12.6609\n",
      "Epoch 119/300\n",
      "9/9 [==============================] - 0s 1000us/step - loss: 12.6536\n",
      "Epoch 120/300\n",
      "9/9 [==============================] - 0s 1ms/step - loss: 12.6400\n",
      "Epoch 121/300\n",
      "9/9 [==============================] - 0s 1ms/step - loss: 12.6216\n",
      "Epoch 122/300\n",
      "9/9 [==============================] - 0s 1ms/step - loss: 12.5982\n",
      "Epoch 123/300\n",
      "9/9 [==============================] - 0s 1ms/step - loss: 12.5732\n",
      "Epoch 124/300\n",
      "9/9 [==============================] - 0s 1ms/step - loss: 12.5318\n",
      "Epoch 125/300\n",
      "9/9 [==============================] - 0s 1ms/step - loss: 12.4849\n",
      "Epoch 126/300\n",
      "9/9 [==============================] - 0s 987us/step - loss: 12.1075\n",
      "Epoch 127/300\n",
      "9/9 [==============================] - 0s 875us/step - loss: 11.1635\n",
      "Epoch 128/300\n",
      "9/9 [==============================] - 0s 1ms/step - loss: 11.0880\n",
      "Epoch 129/300\n",
      "9/9 [==============================] - 0s 1ms/step - loss: 10.8093\n",
      "Epoch 130/300\n",
      "9/9 [==============================] - 0s 953us/step - loss: 9.4602\n",
      "Epoch 131/300\n",
      "9/9 [==============================] - 0s 1ms/step - loss: 8.2700\n",
      "Epoch 132/300\n",
      "9/9 [==============================] - 0s 1ms/step - loss: 8.1219\n",
      "Epoch 133/300\n",
      "9/9 [==============================] - 0s 1ms/step - loss: 7.9825\n",
      "Epoch 134/300\n",
      "9/9 [==============================] - 0s 1ms/step - loss: 7.8555\n",
      "Epoch 135/300\n",
      "9/9 [==============================] - 0s 1ms/step - loss: 7.7755\n",
      "Epoch 136/300\n",
      "9/9 [==============================] - 0s 875us/step - loss: 7.5050\n",
      "Epoch 137/300\n",
      "9/9 [==============================] - 0s 1ms/step - loss: 6.9425\n",
      "Epoch 138/300\n",
      "9/9 [==============================] - 0s 1ms/step - loss: 6.8822\n",
      "Epoch 139/300\n",
      "9/9 [==============================] - 0s 1ms/step - loss: 6.8259\n",
      "Epoch 140/300\n",
      "9/9 [==============================] - 0s 1ms/step - loss: 6.7684\n",
      "Epoch 141/300\n",
      "9/9 [==============================] - 0s 890us/step - loss: 6.7182\n",
      "Epoch 142/300\n",
      "9/9 [==============================] - 0s 1ms/step - loss: 6.6722\n",
      "Epoch 143/300\n",
      "9/9 [==============================] - 0s 1ms/step - loss: 6.6246\n",
      "Epoch 144/300\n",
      "9/9 [==============================] - 0s 875us/step - loss: 6.5784\n",
      "Epoch 145/300\n",
      "9/9 [==============================] - 0s 1ms/step - loss: 6.5336\n",
      "Epoch 146/300\n",
      "9/9 [==============================] - 0s 1ms/step - loss: 6.4897\n",
      "Epoch 147/300\n",
      "9/9 [==============================] - 0s 1ms/step - loss: 6.4418\n",
      "Epoch 148/300\n",
      "9/9 [==============================] - 0s 1ms/step - loss: 6.1675\n",
      "Epoch 149/300\n",
      "9/9 [==============================] - 0s 875us/step - loss: 5.7407\n",
      "Epoch 150/300\n",
      "9/9 [==============================] - 0s 1ms/step - loss: 5.6962\n",
      "Epoch 151/300\n",
      "9/9 [==============================] - 0s 1ms/step - loss: 5.3826\n",
      "Epoch 152/300\n",
      "9/9 [==============================] - 0s 875us/step - loss: 5.1149\n",
      "Epoch 153/300\n",
      "9/9 [==============================] - 0s 1ms/step - loss: 5.0583\n",
      "Epoch 154/300\n",
      "9/9 [==============================] - 0s 877us/step - loss: 4.6315\n",
      "Epoch 155/300\n",
      "9/9 [==============================] - 0s 1ms/step - loss: 4.5494\n",
      "Epoch 156/300\n",
      "9/9 [==============================] - 0s 1ms/step - loss: 4.5065\n",
      "Epoch 157/300\n",
      "9/9 [==============================] - 0s 1ms/step - loss: 4.4718\n",
      "Epoch 158/300\n",
      "9/9 [==============================] - 0s 1000us/step - loss: 4.4362\n",
      "Epoch 159/300\n",
      "9/9 [==============================] - 0s 1ms/step - loss: 4.4074\n",
      "Epoch 160/300\n",
      "9/9 [==============================] - 0s 1ms/step - loss: 4.3797\n",
      "Epoch 161/300\n",
      "9/9 [==============================] - 0s 1ms/step - loss: 4.3533\n",
      "Epoch 162/300\n",
      "9/9 [==============================] - 0s 875us/step - loss: 4.3312\n",
      "Epoch 163/300\n",
      "9/9 [==============================] - 0s 876us/step - loss: 4.3030\n",
      "Epoch 164/300\n",
      "9/9 [==============================] - 0s 1ms/step - loss: 4.2787\n",
      "Epoch 165/300\n",
      "9/9 [==============================] - 0s 875us/step - loss: 4.2564\n",
      "Epoch 166/300\n",
      "9/9 [==============================] - 0s 1ms/step - loss: 4.2349\n",
      "Epoch 167/300\n",
      "9/9 [==============================] - 0s 1ms/step - loss: 4.2125\n",
      "Epoch 168/300\n",
      "9/9 [==============================] - 0s 1ms/step - loss: 4.1915\n",
      "Epoch 169/300\n",
      "9/9 [==============================] - 0s 1ms/step - loss: 4.1721\n",
      "Epoch 170/300\n",
      "9/9 [==============================] - 0s 1ms/step - loss: 4.1503\n",
      "Epoch 171/300\n",
      "9/9 [==============================] - 0s 1ms/step - loss: 4.1316\n",
      "Epoch 172/300\n",
      "9/9 [==============================] - 0s 875us/step - loss: 4.1094\n",
      "Epoch 173/300\n",
      "9/9 [==============================] - 0s 1ms/step - loss: 4.0892\n",
      "Epoch 174/300\n",
      "9/9 [==============================] - 0s 1ms/step - loss: 4.0698\n",
      "Epoch 175/300\n",
      "9/9 [==============================] - 0s 1ms/step - loss: 4.0515\n",
      "Epoch 176/300\n",
      "9/9 [==============================] - 0s 1ms/step - loss: 4.0330\n",
      "Epoch 177/300\n",
      "9/9 [==============================] - 0s 1ms/step - loss: 4.0135\n",
      "Epoch 178/300\n",
      "9/9 [==============================] - 0s 1ms/step - loss: 3.9961\n",
      "Epoch 179/300\n",
      "9/9 [==============================] - 0s 1ms/step - loss: 3.9792\n",
      "Epoch 180/300\n",
      "9/9 [==============================] - 0s 1ms/step - loss: 3.9577\n",
      "Epoch 181/300\n",
      "9/9 [==============================] - 0s 1ms/step - loss: 3.9414\n",
      "Epoch 182/300\n",
      "9/9 [==============================] - 0s 1ms/step - loss: 3.9247\n",
      "Epoch 183/300\n",
      "9/9 [==============================] - 0s 1ms/step - loss: 3.9060\n",
      "Epoch 184/300\n",
      "9/9 [==============================] - 0s 1ms/step - loss: 3.8911\n",
      "Epoch 185/300\n",
      "9/9 [==============================] - 0s 1ms/step - loss: 3.8755\n",
      "Epoch 186/300\n",
      "9/9 [==============================] - 0s 875us/step - loss: 3.8573\n",
      "Epoch 187/300\n",
      "9/9 [==============================] - 0s 1ms/step - loss: 3.8446\n",
      "Epoch 188/300\n",
      "9/9 [==============================] - 0s 1ms/step - loss: 3.8270\n",
      "Epoch 189/300\n",
      "9/9 [==============================] - 0s 875us/step - loss: 3.8112\n",
      "Epoch 190/300\n",
      "9/9 [==============================] - 0s 1ms/step - loss: 3.7956\n",
      "Epoch 191/300\n",
      "9/9 [==============================] - 0s 1ms/step - loss: 3.7813\n",
      "Epoch 192/300\n",
      "9/9 [==============================] - 0s 878us/step - loss: 3.7668\n",
      "Epoch 193/300\n",
      "9/9 [==============================] - 0s 1ms/step - loss: 3.7519\n",
      "Epoch 194/300\n",
      "9/9 [==============================] - 0s 1ms/step - loss: 3.7369\n",
      "Epoch 195/300\n",
      "9/9 [==============================] - 0s 1ms/step - loss: 3.7222\n",
      "Epoch 196/300\n",
      "9/9 [==============================] - 0s 1ms/step - loss: 3.7074\n",
      "Epoch 197/300\n",
      "9/9 [==============================] - 0s 1ms/step - loss: 3.6939\n",
      "Epoch 198/300\n",
      "9/9 [==============================] - 0s 1ms/step - loss: 3.6795\n",
      "Epoch 199/300\n",
      "9/9 [==============================] - 0s 1ms/step - loss: 3.6660\n",
      "Epoch 200/300\n",
      "9/9 [==============================] - 0s 897us/step - loss: 3.6543\n",
      "Epoch 201/300\n",
      "9/9 [==============================] - 0s 2ms/step - loss: 3.6413\n",
      "Epoch 202/300\n",
      "9/9 [==============================] - 0s 1ms/step - loss: 3.6265\n",
      "Epoch 203/300\n"
     ]
    },
    {
     "name": "stdout",
     "output_type": "stream",
     "text": [
      "9/9 [==============================] - 0s 1ms/step - loss: 3.6135\n",
      "Epoch 204/300\n",
      "9/9 [==============================] - 0s 1ms/step - loss: 3.6052\n",
      "Epoch 205/300\n",
      "9/9 [==============================] - 0s 1ms/step - loss: 3.5883\n",
      "Epoch 206/300\n",
      "9/9 [==============================] - 0s 1ms/step - loss: 3.5763\n",
      "Epoch 207/300\n",
      "9/9 [==============================] - 0s 875us/step - loss: 3.5649\n",
      "Epoch 208/300\n",
      "9/9 [==============================] - 0s 1ms/step - loss: 3.5534\n",
      "Epoch 209/300\n",
      "9/9 [==============================] - 0s 1ms/step - loss: 3.5434\n",
      "Epoch 210/300\n",
      "9/9 [==============================] - 0s 875us/step - loss: 3.5314\n",
      "Epoch 211/300\n",
      "9/9 [==============================] - 0s 1ms/step - loss: 3.5202\n",
      "Epoch 212/300\n",
      "9/9 [==============================] - 0s 1ms/step - loss: 3.5104\n",
      "Epoch 213/300\n",
      "9/9 [==============================] - 0s 876us/step - loss: 3.4999\n",
      "Epoch 214/300\n",
      "9/9 [==============================] - 0s 1ms/step - loss: 3.4947\n",
      "Epoch 215/300\n",
      "9/9 [==============================] - 0s 875us/step - loss: 3.4788\n",
      "Epoch 216/300\n",
      "9/9 [==============================] - 0s 1ms/step - loss: 3.4679\n",
      "Epoch 217/300\n",
      "9/9 [==============================] - 0s 1ms/step - loss: 3.4594\n",
      "Epoch 218/300\n",
      "9/9 [==============================] - 0s 1ms/step - loss: 3.4495\n",
      "Epoch 219/300\n",
      "9/9 [==============================] - 0s 1ms/step - loss: 3.4520\n",
      "Epoch 220/300\n",
      "9/9 [==============================] - 0s 1ms/step - loss: 3.4385\n",
      "Epoch 221/300\n",
      "9/9 [==============================] - 0s 1ms/step - loss: 3.4245\n",
      "Epoch 222/300\n",
      "9/9 [==============================] - 0s 1ms/step - loss: 3.4159\n",
      "Epoch 223/300\n",
      "9/9 [==============================] - 0s 1ms/step - loss: 3.4062\n",
      "Epoch 224/300\n",
      "9/9 [==============================] - 0s 1ms/step - loss: 3.3977\n",
      "Epoch 225/300\n",
      "9/9 [==============================] - 0s 1ms/step - loss: 3.3913\n",
      "Epoch 226/300\n",
      "9/9 [==============================] - 0s 875us/step - loss: 3.3817\n",
      "Epoch 227/300\n",
      "9/9 [==============================] - 0s 1ms/step - loss: 3.3752\n",
      "Epoch 228/300\n",
      "9/9 [==============================] - 0s 875us/step - loss: 3.3690\n",
      "Epoch 229/300\n",
      "9/9 [==============================] - 0s 875us/step - loss: 3.3586\n",
      "Epoch 230/300\n",
      "9/9 [==============================] - 0s 875us/step - loss: 3.3525\n",
      "Epoch 231/300\n",
      "9/9 [==============================] - 0s 1ms/step - loss: 3.3440\n",
      "Epoch 232/300\n",
      "9/9 [==============================] - 0s 1ms/step - loss: 3.3370\n",
      "Epoch 233/300\n",
      "9/9 [==============================] - 0s 1ms/step - loss: 3.3300\n",
      "Epoch 234/300\n",
      "9/9 [==============================] - 0s 1ms/step - loss: 3.3256\n",
      "Epoch 235/300\n",
      "9/9 [==============================] - 0s 1ms/step - loss: 3.3210\n",
      "Epoch 236/300\n",
      "9/9 [==============================] - 0s 1ms/step - loss: 3.2988\n",
      "Epoch 237/300\n",
      "9/9 [==============================] - 0s 875us/step - loss: 3.3017\n",
      "Epoch 238/300\n",
      "9/9 [==============================] - 0s 875us/step - loss: 3.2650\n",
      "Epoch 239/300\n",
      "9/9 [==============================] - 0s 875us/step - loss: 3.2565\n",
      "Epoch 240/300\n",
      "9/9 [==============================] - 0s 875us/step - loss: 3.2546\n",
      "Epoch 241/300\n",
      "9/9 [==============================] - 0s 875us/step - loss: 3.2453\n",
      "Epoch 242/300\n",
      "9/9 [==============================] - 0s 875us/step - loss: 3.2288\n",
      "Epoch 243/300\n",
      "9/9 [==============================] - 0s 1ms/step - loss: 3.2182\n",
      "Epoch 244/300\n",
      "9/9 [==============================] - 0s 875us/step - loss: 3.1900\n",
      "Epoch 245/300\n",
      "9/9 [==============================] - 0s 875us/step - loss: 3.1911\n",
      "Epoch 246/300\n",
      "9/9 [==============================] - 0s 875us/step - loss: 3.1938\n",
      "Epoch 247/300\n",
      "9/9 [==============================] - 0s 1ms/step - loss: 3.1707\n",
      "Epoch 248/300\n",
      "9/9 [==============================] - 0s 1ms/step - loss: 3.1574\n",
      "Epoch 249/300\n",
      "9/9 [==============================] - 0s 1ms/step - loss: 3.1398\n",
      "Epoch 250/300\n",
      "9/9 [==============================] - 0s 1ms/step - loss: 3.1329\n",
      "Epoch 251/300\n",
      "9/9 [==============================] - 0s 1ms/step - loss: 3.1461\n",
      "Epoch 252/300\n",
      "9/9 [==============================] - 0s 875us/step - loss: 3.1180\n",
      "Epoch 253/300\n",
      "9/9 [==============================] - 0s 1ms/step - loss: 3.1047\n",
      "Epoch 254/300\n",
      "9/9 [==============================] - 0s 875us/step - loss: 3.1236\n",
      "Epoch 255/300\n",
      "9/9 [==============================] - 0s 875us/step - loss: 3.0924\n",
      "Epoch 256/300\n",
      "9/9 [==============================] - 0s 992us/step - loss: 3.0778\n",
      "Epoch 257/300\n",
      "9/9 [==============================] - 0s 875us/step - loss: 3.0727\n",
      "Epoch 258/300\n",
      "9/9 [==============================] - 0s 1ms/step - loss: 3.0641\n",
      "Epoch 259/300\n",
      "9/9 [==============================] - 0s 875us/step - loss: 3.0603\n",
      "Epoch 260/300\n",
      "9/9 [==============================] - 0s 875us/step - loss: 3.0496\n",
      "Epoch 261/300\n",
      "9/9 [==============================] - 0s 875us/step - loss: 3.0439\n",
      "Epoch 262/300\n",
      "9/9 [==============================] - 0s 875us/step - loss: 3.0347\n",
      "Epoch 263/300\n",
      "9/9 [==============================] - 0s 1ms/step - loss: 3.0264\n",
      "Epoch 264/300\n",
      "9/9 [==============================] - 0s 875us/step - loss: 3.0235\n",
      "Epoch 265/300\n",
      "9/9 [==============================] - 0s 875us/step - loss: 3.0212\n",
      "Epoch 266/300\n",
      "9/9 [==============================] - 0s 1ms/step - loss: 3.0108\n",
      "Epoch 267/300\n",
      "9/9 [==============================] - 0s 875us/step - loss: 3.0080\n",
      "Epoch 268/300\n",
      "9/9 [==============================] - 0s 875us/step - loss: 2.9974\n",
      "Epoch 269/300\n",
      "9/9 [==============================] - 0s 1ms/step - loss: 2.9926\n",
      "Epoch 270/300\n",
      "9/9 [==============================] - 0s 1ms/step - loss: 2.9904\n",
      "Epoch 271/300\n",
      "9/9 [==============================] - 0s 875us/step - loss: 2.9866\n",
      "Epoch 272/300\n",
      "9/9 [==============================] - 0s 1ms/step - loss: 2.9737\n",
      "Epoch 273/300\n",
      "9/9 [==============================] - 0s 1ms/step - loss: 2.9702\n",
      "Epoch 274/300\n",
      "9/9 [==============================] - 0s 875us/step - loss: 2.9665\n",
      "Epoch 275/300\n",
      "9/9 [==============================] - 0s 1ms/step - loss: 2.9598\n",
      "Epoch 276/300\n",
      "9/9 [==============================] - 0s 1ms/step - loss: 2.9572\n",
      "Epoch 277/300\n",
      "9/9 [==============================] - 0s 1ms/step - loss: 2.9730\n",
      "Epoch 278/300\n",
      "9/9 [==============================] - 0s 1ms/step - loss: 3.0388\n",
      "Epoch 279/300\n",
      "9/9 [==============================] - 0s 1ms/step - loss: 2.9982\n",
      "Epoch 280/300\n",
      "9/9 [==============================] - 0s 1ms/step - loss: 2.9846\n",
      "Epoch 281/300\n",
      "9/9 [==============================] - 0s 1ms/step - loss: 3.0435\n",
      "Epoch 282/300\n",
      "9/9 [==============================] - 0s 875us/step - loss: 2.9956\n",
      "Epoch 283/300\n",
      "9/9 [==============================] - 0s 875us/step - loss: 2.9082\n",
      "Epoch 284/300\n",
      "9/9 [==============================] - 0s 1ms/step - loss: 2.9204\n",
      "Epoch 285/300\n",
      "9/9 [==============================] - 0s 1ms/step - loss: 2.9454\n",
      "Epoch 286/300\n",
      "9/9 [==============================] - 0s 1ms/step - loss: 2.9207\n",
      "Epoch 287/300\n",
      "9/9 [==============================] - 0s 875us/step - loss: 2.9062\n",
      "Epoch 288/300\n",
      "9/9 [==============================] - 0s 1ms/step - loss: 2.9076\n",
      "Epoch 289/300\n",
      "9/9 [==============================] - 0s 1ms/step - loss: 2.8883\n",
      "Epoch 290/300\n",
      "9/9 [==============================] - 0s 1ms/step - loss: 2.8747\n",
      "Epoch 291/300\n",
      "9/9 [==============================] - 0s 1ms/step - loss: 2.8664\n",
      "Epoch 292/300\n",
      "9/9 [==============================] - 0s 1ms/step - loss: 2.8640\n",
      "Epoch 293/300\n",
      "9/9 [==============================] - 0s 1ms/step - loss: 2.8434\n",
      "Epoch 294/300\n",
      "9/9 [==============================] - 0s 1ms/step - loss: 2.8831\n",
      "Epoch 295/300\n",
      "9/9 [==============================] - 0s 1ms/step - loss: 2.8141\n",
      "Epoch 296/300\n",
      "9/9 [==============================] - 0s 1ms/step - loss: 2.8653\n",
      "Epoch 297/300\n",
      "9/9 [==============================] - 0s 1ms/step - loss: 2.9188\n",
      "Epoch 298/300\n",
      "9/9 [==============================] - 0s 1ms/step - loss: 2.8998\n",
      "Epoch 299/300\n",
      "9/9 [==============================] - 0s 1ms/step - loss: 2.7951\n",
      "Epoch 300/300\n",
      "9/9 [==============================] - 0s 1ms/step - loss: 2.7756\n"
     ]
    },
    {
     "data": {
      "text/plain": [
       "<keras.callbacks.History at 0x265b57f7a60>"
      ]
     },
     "execution_count": 52,
     "metadata": {},
     "output_type": "execute_result"
    }
   ],
   "source": [
    "# importing the libraries\n",
    "from keras.models import Sequential\n",
    "from keras.layers import Dense\n",
    " \n",
    "# create ANN model\n",
    "model = Sequential()\n",
    " \n",
    "# Defining the Input layer and FIRST hidden layer, both are same!\n",
    "model.add(Dense(units=126, input_dim=126, kernel_initializer='normal', activation='relu'))\n",
    " \n",
    "# Defining the Second layer of the model\n",
    "# after the first layer we don't have to specify input_dim as keras configure it automatically\n",
    "model.add(Dense(units=126, kernel_initializer='normal', activation='tanh'))\n",
    " \n",
    "# The output neuron is a single fully connected node \n",
    "# Since we will be predicting a single number\n",
    "model.add(Dense(10, kernel_initializer='normal'))\n",
    " \n",
    "# Compiling the model\n",
    "model.compile(loss='mean_squared_error', optimizer='adam')\n",
    " \n",
    "# Fitting the ANN to the Training set\n",
    "model.fit(X_train, y_train ,batch_size =40, epochs = 300, verbose=1)"
   ]
  },
  {
   "cell_type": "code",
   "execution_count": 54,
   "id": "ad652c1e",
   "metadata": {},
   "outputs": [],
   "source": [
    "from sklearn.neural_network import MLPRegressor"
   ]
  },
  {
   "cell_type": "code",
   "execution_count": 109,
   "id": "021a6368",
   "metadata": {},
   "outputs": [],
   "source": [
    "nn=MLPRegressor(hidden_layer_sizes=(200,100,),activation='relu',max_iter=20000,solver='lbfgs')"
   ]
  },
  {
   "cell_type": "code",
   "execution_count": 110,
   "id": "06627c14",
   "metadata": {},
   "outputs": [
    {
     "data": {
      "text/plain": [
       "MLPRegressor(hidden_layer_sizes=(200, 100), max_iter=20000, solver='lbfgs')"
      ]
     },
     "execution_count": 110,
     "metadata": {},
     "output_type": "execute_result"
    }
   ],
   "source": [
    "nn.fit(X_train,y_train)"
   ]
  },
  {
   "cell_type": "code",
   "execution_count": 111,
   "id": "4baa1977",
   "metadata": {},
   "outputs": [],
   "source": [
    "from sklearn import metrics"
   ]
  },
  {
   "cell_type": "code",
   "execution_count": 112,
   "id": "bb90a2c7",
   "metadata": {},
   "outputs": [
    {
     "name": "stdout",
     "output_type": "stream",
     "text": [
      "3.1468081480667764e-05 0.9999975412691797\n"
     ]
    }
   ],
   "source": [
    "mse=metrics.mean_squared_error(y_train,nn.predict(X_train))\n",
    "rsq=metrics.r2_score(y_train,nn.predict(X_train))\n",
    "print(mse,rsq)"
   ]
  },
  {
   "cell_type": "code",
   "execution_count": 114,
   "id": "dd7dd238",
   "metadata": {},
   "outputs": [
    {
     "name": "stdout",
     "output_type": "stream",
     "text": [
      "0.41022040128803094 0.9701329582580533\n"
     ]
    }
   ],
   "source": [
    "mse=metrics.mean_squared_error(y_test,nn.predict(X_test))\n",
    "rsq=metrics.r2_score(y_test,nn.predict(X_test))\n",
    "print(mse,rsq)"
   ]
  },
  {
   "cell_type": "code",
   "execution_count": null,
   "id": "53393aff",
   "metadata": {},
   "outputs": [],
   "source": []
  },
  {
   "cell_type": "code",
   "execution_count": 295,
   "id": "491ee8ee",
   "metadata": {},
   "outputs": [],
   "source": [
    "nn=MLPRegressor(hidden_layer_sizes=(300,100,),activation='relu',max_iter=20000,solver='lbfgs',learning_rate_init=0.05)"
   ]
  },
  {
   "cell_type": "code",
   "execution_count": 296,
   "id": "62cd3135",
   "metadata": {},
   "outputs": [
    {
     "data": {
      "text/plain": [
       "MLPRegressor(hidden_layer_sizes=(300, 100), learning_rate_init=0.05,\n",
       "             max_iter=20000, solver='lbfgs')"
      ]
     },
     "execution_count": 296,
     "metadata": {},
     "output_type": "execute_result"
    }
   ],
   "source": [
    "nn.fit(X_train,y_train)"
   ]
  },
  {
   "cell_type": "code",
   "execution_count": 298,
   "id": "b1f3a4fb",
   "metadata": {},
   "outputs": [
    {
     "name": "stdout",
     "output_type": "stream",
     "text": [
      "3.14791083437078e-05 0.9999975404076055\n"
     ]
    }
   ],
   "source": [
    "mse=metrics.mean_squared_error(y_train,nn.predict(X_train))\n",
    "rsq=metrics.r2_score(y_train,nn.predict(X_train))\n",
    "print(mse,rsq)"
   ]
  },
  {
   "cell_type": "code",
   "execution_count": 299,
   "id": "400f762d",
   "metadata": {},
   "outputs": [
    {
     "name": "stdout",
     "output_type": "stream",
     "text": [
      "0.3471453054553451 0.9747252859779743\n"
     ]
    }
   ],
   "source": [
    "mse=metrics.mean_squared_error(y_test,nn.predict(X_test))\n",
    "rsq=metrics.r2_score(y_test,nn.predict(X_test))\n",
    "print(mse,rsq)"
   ]
  },
  {
   "cell_type": "code",
   "execution_count": 315,
   "id": "1c2ebd18",
   "metadata": {},
   "outputs": [],
   "source": [
    "nn=MLPRegressor(hidden_layer_sizes=(300,100,),activation='relu',max_iter=27000,solver='lbfgs',learning_rate_init=0.05)"
   ]
  },
  {
   "cell_type": "code",
   "execution_count": 316,
   "id": "338b1698",
   "metadata": {},
   "outputs": [
    {
     "data": {
      "text/plain": [
       "MLPRegressor(hidden_layer_sizes=(300, 100), learning_rate_init=0.06,\n",
       "             max_iter=27000, solver='lbfgs')"
      ]
     },
     "execution_count": 316,
     "metadata": {},
     "output_type": "execute_result"
    }
   ],
   "source": [
    "nn.fit(X_train,y_train)"
   ]
  },
  {
   "cell_type": "code",
   "execution_count": 317,
   "id": "665a48d8",
   "metadata": {},
   "outputs": [
    {
     "name": "stdout",
     "output_type": "stream",
     "text": [
      "0.45819104471601224 0.9666403450063649\n"
     ]
    }
   ],
   "source": [
    "mse=metrics.mean_squared_error(y_test,nn.predict(X_test))\n",
    "rsq=metrics.r2_score(y_test,nn.predict(X_test))\n",
    "print(mse,rsq)"
   ]
  },
  {
   "cell_type": "code",
   "execution_count": 318,
   "id": "c4345b5c",
   "metadata": {},
   "outputs": [],
   "source": [
    "from sklearn.model_selection import GridSearchCV"
   ]
  },
  {
   "cell_type": "code",
   "execution_count": 319,
   "id": "b169e481",
   "metadata": {},
   "outputs": [],
   "source": [
    "param_grid = {\n",
    "    'hidden_layer_sizes': [(150,100,50), (120,80,40), (100,50,30),(200,100,),(300,200,100)],\n",
    "    'max_iter': [20000, 25000,30000],\n",
    "    'activation': ['tanh', 'relu'],\n",
    "    'solver': ['sgd', 'adam','lbfgs'],\n",
    "    'alpha': [0.0001, 0.05],\n",
    "    'learning_rate': ['constant','adaptive'],\n",
    "    'learning_rate_init': [0.001,0.05,0.005],\n",
    "}"
   ]
  },
  {
   "cell_type": "code",
   "execution_count": null,
   "id": "b22d06d5",
   "metadata": {},
   "outputs": [],
   "source": [
    "grid = GridSearchCV(nn, param_grid, n_jobs= -1, cv=5)\n",
    "grid.fit(X_train, y_train)\n",
    "\n",
    "print(grid.best_params_) "
   ]
  },
  {
   "cell_type": "code",
   "execution_count": null,
   "id": "bcbd7155",
   "metadata": {},
   "outputs": [],
   "source": []
  }
 ],
 "metadata": {
  "kernelspec": {
   "display_name": "Python 3",
   "language": "python",
   "name": "python3"
  },
  "language_info": {
   "codemirror_mode": {
    "name": "ipython",
    "version": 3
   },
   "file_extension": ".py",
   "mimetype": "text/x-python",
   "name": "python",
   "nbconvert_exporter": "python",
   "pygments_lexer": "ipython3",
   "version": "3.11.0 (main, Oct 24 2022, 18:26:48) [MSC v.1933 64 bit (AMD64)]"
  },
  "vscode": {
   "interpreter": {
    "hash": "734da60e4afcdc8d62a7a88b64d8aa0d635fe9b122d4fae64989ab3a1e8e7652"
   }
  }
 },
 "nbformat": 4,
 "nbformat_minor": 5
}
